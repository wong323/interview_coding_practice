{
 "cells": [
  {
   "cell_type": "markdown",
   "metadata": {},
   "source": [
    "Given a singly linked list, determine if it is a palindrome.\n",
    "\n",
    "Example 1:\n",
    "\n",
    "Input: 1->2\n",
    "Output: false\n",
    "\n",
    "\n",
    "Example 2:\n",
    "\n",
    "Input: 1->2->2->1\n",
    "Output: true\n",
    "\n",
    "\n",
    "Follow up:\n",
    "Could you do it in O(n) time and O(1) space?"
   ]
  },
  {
   "cell_type": "code",
   "execution_count": 1,
   "metadata": {},
   "outputs": [],
   "source": [
    "import unittest"
   ]
  },
  {
   "cell_type": "code",
   "execution_count": 13,
   "metadata": {},
   "outputs": [
    {
     "name": "stdout",
     "output_type": "stream",
     "text": [
      "True\n"
     ]
    }
   ],
   "source": [
    "class solution(object):\n",
    "    def if_palindrome(self, l):\n",
    "        rl = l[::-1]\n",
    "        \n",
    "        if l == rl:\n",
    "            return True\n",
    "        else:\n",
    "            return False\n",
    "        \n",
    "\n",
    "l = [1,2,2,1]\n",
    "x = solution()\n",
    "y = x.if_palindrome(l)\n",
    "print(y)"
   ]
  },
  {
   "cell_type": "code",
   "execution_count": 14,
   "metadata": {},
   "outputs": [
    {
     "name": "stderr",
     "output_type": "stream",
     "text": [
      "test_if (__main__.solutionTestCase) ... ok\n",
      "\n",
      "----------------------------------------------------------------------\n",
      "Ran 1 test in 0.002s\n",
      "\n",
      "OK\n"
     ]
    },
    {
     "data": {
      "text/plain": [
       "<unittest.main.TestProgram at 0x1cb04afc898>"
      ]
     },
     "execution_count": 14,
     "metadata": {},
     "output_type": "execute_result"
    }
   ],
   "source": [
    "class solutionTestCase(unittest.TestCase):\n",
    "    def setUp(self):\n",
    "        self.test1 = solution()\n",
    "    \n",
    "    def test_if(self):\n",
    "        self.assertEqual(self.test1.if_palindrome([1,2]), False, msg = 'this is wrong')\n",
    "        self.assertEqual(self.test1.if_palindrome([1,2,2,1]), True, msg = 'this is wrong')\n",
    "        \n",
    "unittest.main(argv=[''], verbosity=2, exit=False)"
   ]
  }
 ],
 "metadata": {
  "kernelspec": {
   "display_name": "Python 3",
   "language": "python",
   "name": "python3"
  },
  "language_info": {
   "codemirror_mode": {
    "name": "ipython",
    "version": 3
   },
   "file_extension": ".py",
   "mimetype": "text/x-python",
   "name": "python",
   "nbconvert_exporter": "python",
   "pygments_lexer": "ipython3",
   "version": "3.6.4"
  }
 },
 "nbformat": 4,
 "nbformat_minor": 2
}
