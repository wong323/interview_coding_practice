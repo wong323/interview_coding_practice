{
 "cells": [
  {
   "cell_type": "markdown",
   "metadata": {},
   "source": [
    "![image.png](attachment:image.png)"
   ]
  },
  {
   "cell_type": "code",
   "execution_count": 1,
   "metadata": {},
   "outputs": [],
   "source": [
    "import unittest"
   ]
  },
  {
   "cell_type": "code",
   "execution_count": 58,
   "metadata": {},
   "outputs": [
    {
     "name": "stderr",
     "output_type": "stream",
     "text": [
      "test_return_3sum (__main__.test_solution) ... ok\n",
      "\n",
      "----------------------------------------------------------------------\n",
      "Ran 1 test in 0.001s\n",
      "\n",
      "OK\n"
     ]
    },
    {
     "data": {
      "text/plain": [
       "<unittest.main.TestProgram at 0x21cd1e4ff98>"
      ]
     },
     "execution_count": 58,
     "metadata": {},
     "output_type": "execute_result"
    }
   ],
   "source": [
    "class test_solution(unittest.TestCase):\n",
    "    def setUp(self):\n",
    "        self.s = solution()\n",
    "        \n",
    "    def test_return_3sum(self):\n",
    "        array_nums = [-1,0,1,2,-1,-4]\n",
    "        ans = [[-1, 0, 1], [-1, -1, 2]]\n",
    "        self.assertEqual(self.s.return_3sum(array_nums), ans, msg = 'this is wrong')\n",
    "        \n",
    "unittest.main(argv=[''], verbosity=2, exit=False)"
   ]
  },
  {
   "cell_type": "code",
   "execution_count": 56,
   "metadata": {},
   "outputs": [],
   "source": [
    "class solution(object):\n",
    "    def __init__(self):\n",
    "        self.ans_list = []\n",
    "        \n",
    "    def return_3sum(self, array_nums):\n",
    "        length = len(array_nums)\n",
    "        for i in range(length):\n",
    "            for j in range(i+1,length):\n",
    "                for k in range(j+1,length):\n",
    "                    if array_nums[i] + array_nums[j] + array_nums[k] == 0:\n",
    "                        temp_list = [array_nums[i],array_nums[j],array_nums[k]]\n",
    "                        temp_list.sort()\n",
    "                        self.ans_list.append(temp_list)\n",
    "                    else:\n",
    "                        pass\n",
    "        final_list = self.remove_dup(self.ans_list)\n",
    "        return final_list\n",
    "    \n",
    "    def remove_dup(self, list_of_list):\n",
    "        final_list = []\n",
    "        for l in list_of_list:\n",
    "            if l not in final_list:\n",
    "                final_list.append(l)\n",
    "            else:\n",
    "                pass\n",
    "        return final_list"
   ]
  },
  {
   "cell_type": "code",
   "execution_count": null,
   "metadata": {},
   "outputs": [],
   "source": []
  }
 ],
 "metadata": {
  "kernelspec": {
   "display_name": "Python 3",
   "language": "python",
   "name": "python3"
  },
  "language_info": {
   "codemirror_mode": {
    "name": "ipython",
    "version": 3
   },
   "file_extension": ".py",
   "mimetype": "text/x-python",
   "name": "python",
   "nbconvert_exporter": "python",
   "pygments_lexer": "ipython3",
   "version": "3.6.4"
  }
 },
 "nbformat": 4,
 "nbformat_minor": 2
}
