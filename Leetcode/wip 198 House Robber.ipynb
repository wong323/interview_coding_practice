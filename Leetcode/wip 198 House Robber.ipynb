{
 "cells": [
  {
   "cell_type": "markdown",
   "metadata": {},
   "source": [
    "![image.png](attachment:image.png)"
   ]
  },
  {
   "cell_type": "code",
   "execution_count": 1,
   "metadata": {},
   "outputs": [],
   "source": [
    "import unittest"
   ]
  },
  {
   "cell_type": "code",
   "execution_count": 22,
   "metadata": {},
   "outputs": [
    {
     "name": "stderr",
     "output_type": "stream",
     "text": [
      "test_rob (__main__.test_solution) ... FAIL\n",
      "\n",
      "======================================================================\n",
      "FAIL: test_rob (__main__.test_solution)\n",
      "----------------------------------------------------------------------\n",
      "Traceback (most recent call last):\n",
      "  File \"<ipython-input-22-4874f8b4a5ed>\", line 9, in test_rob\n",
      "    self.assertEqual(self.s.rob(tc), ans , msg='this is wrong')\n",
      "AssertionError: 7 != 4 : this is wrong\n",
      "\n",
      "----------------------------------------------------------------------\n",
      "Ran 1 test in 0.002s\n",
      "\n",
      "FAILED (failures=1)\n"
     ]
    },
    {
     "data": {
      "text/plain": [
       "<unittest.main.TestProgram at 0x1503e250b38>"
      ]
     },
     "execution_count": 22,
     "metadata": {},
     "output_type": "execute_result"
    }
   ],
   "source": [
    "class test_solution(unittest.TestCase):\n",
    "    \n",
    "    def setUp(self):\n",
    "        self.s = Solution()\n",
    "        \n",
    "    def test_rob(self):\n",
    "        tc =  [1,2,3,1]\n",
    "        ans = 4\n",
    "        self.assertEqual(self.s.rob(tc), ans , msg='this is wrong')\n",
    "\n",
    "unittest.main(argv=[''], verbosity=2, exit=False)            "
   ]
  },
  {
   "cell_type": "code",
   "execution_count": 25,
   "metadata": {},
   "outputs": [],
   "source": [
    "class Solution(object):\n",
    "    \n",
    "    # def rob(self, nums):\n",
    "    #     \"\"\"\n",
    "    #     :type nums: List[int]\n",
    "    #     :rtype: int\n",
    "    #     \"\"\"\n",
    "    #     # dp\n",
    "    #     ls = len(nums)\n",
    "    #     if ls == 0:\n",
    "    #         return 0\n",
    "    #     dp = [0] * ls\n",
    "    #     dp[0] = nums[0]\n",
    "    #     for i in range(1, ls):\n",
    "    #         if i < 2:\n",
    "    #             dp[i] = max(nums[i], dp[i - 1])\n",
    "    #         else:\n",
    "    #             dp[i] = max(dp[i - 2] + nums[i], dp[i - 1])\n",
    "    #     return dp[ls - 1]\n",
    "\n",
    "    # def rob(self, nums):\n",
    "    #     if nums is None or len(nums) == 0:\n",
    "    #         return 0\n",
    "    #     if len(nums) == 1:\n",
    "    #         return nums[0]\n",
    "    #     nums[1] = max(nums[0], nums[1])\n",
    "    #     for i in range(2, len(nums)):\n",
    "    #         nums[i] = max(nums[i] + nums[i - 2], nums[i - 1])\n",
    "    #     return nums[-1]\n",
    "\n",
    "    def rob(self, nums):\n",
    "        prevMax = 0\n",
    "        currMax = 0\n",
    "        for num in nums:\n",
    "            temp = currMax\n",
    "            currMax = max(prevMax + num, currMax)\n",
    "            prevMax = temp\n",
    "        return currMax\n",
    "    \n",
    "    "
   ]
  },
  {
   "cell_type": "code",
   "execution_count": null,
   "metadata": {},
   "outputs": [],
   "source": []
  },
  {
   "cell_type": "code",
   "execution_count": null,
   "metadata": {},
   "outputs": [],
   "source": []
  },
  {
   "cell_type": "code",
   "execution_count": null,
   "metadata": {},
   "outputs": [],
   "source": []
  },
  {
   "cell_type": "code",
   "execution_count": null,
   "metadata": {},
   "outputs": [],
   "source": []
  }
 ],
 "metadata": {
  "kernelspec": {
   "display_name": "Python 3",
   "language": "python",
   "name": "python3"
  },
  "language_info": {
   "codemirror_mode": {
    "name": "ipython",
    "version": 3
   },
   "file_extension": ".py",
   "mimetype": "text/x-python",
   "name": "python",
   "nbconvert_exporter": "python",
   "pygments_lexer": "ipython3",
   "version": "3.6.4"
  }
 },
 "nbformat": 4,
 "nbformat_minor": 2
}
