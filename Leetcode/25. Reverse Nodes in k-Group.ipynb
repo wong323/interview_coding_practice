{
 "cells": [
  {
   "cell_type": "markdown",
   "metadata": {},
   "source": [
    "Given a linked list, reverse the nodes of a linked list k at a time and return its modified list.\n",
    "\n",
    "k is a positive integer and is less than or equal to the length of the linked list. If the number of nodes is not a multiple of k then left-out nodes in the end should remain as it is.\n",
    "\n",
    "Example:\n",
    "\n",
    "Given this linked list: 1->2->3->4->5\n",
    "\n",
    "For k = 2, you should return: 2->1->4->3->5\n",
    "\n",
    "For k = 3, you should return: 3->2->1->4->5\n",
    "\n",
    "Note:\n",
    "\n",
    "Only constant extra memory is allowed.\n",
    "You may not alter the values in the list's nodes, only nodes itself may be changed.\n"
   ]
  },
  {
   "cell_type": "code",
   "execution_count": 2,
   "metadata": {},
   "outputs": [],
   "source": [
    "import unittest\n"
   ]
  },
  {
   "cell_type": "code",
   "execution_count": 22,
   "metadata": {},
   "outputs": [],
   "source": [
    "class solution(object):\n",
    "    \n",
    "    def new_reverse_node(self, l , k):\n",
    "        \n",
    "        new_list =[]\n",
    "        length = len(l)\n",
    "        \n",
    "        if k == 1:\n",
    "            print(\"got here 1\")\n",
    "            return l\n",
    "        \n",
    "        elif k > length:\n",
    "            print(\"got here 2\")\n",
    "            return l\n",
    "        \n",
    "        elif k == length:\n",
    "            print(\"got here 2\")\n",
    "            return l\n",
    "        \n",
    "        else:\n",
    "            print(\"gothere else\")\n",
    "            for i in range(0, length, k):\n",
    "                temp_list = l[i:i+k]\n",
    "                if len(temp_list) >= k :\n",
    "                    \n",
    "                    temp_list.reverse()\n",
    "                else:\n",
    "                    pass\n",
    "                new_list.extend(temp_list)\n",
    "                \n",
    "            return new_list"
   ]
  },
  {
   "cell_type": "code",
   "execution_count": 23,
   "metadata": {},
   "outputs": [
    {
     "name": "stderr",
     "output_type": "stream",
     "text": [
      "test_new_reverse_node (__main__.solutionTestCase) ... ok\n",
      "test_new_reverse_node3 (__main__.solutionTestCase) ... "
     ]
    },
    {
     "name": "stdout",
     "output_type": "stream",
     "text": [
      "gothere else\n",
      "gothere else\n"
     ]
    },
    {
     "name": "stderr",
     "output_type": "stream",
     "text": [
      "ok\n",
      "\n",
      "----------------------------------------------------------------------\n",
      "Ran 2 tests in 0.003s\n",
      "\n",
      "OK\n"
     ]
    },
    {
     "data": {
      "text/plain": [
       "<unittest.main.TestProgram at 0x181a06443c8>"
      ]
     },
     "execution_count": 23,
     "metadata": {},
     "output_type": "execute_result"
    }
   ],
   "source": [
    "class solutionTestCase(unittest.TestCase):\n",
    "    def setUp(self):\n",
    "        self.test1 = solution()\n",
    "        \n",
    "    def test_new_reverse_node(self):\n",
    "        k = 2\n",
    "        self.assertEqual(self.test1.new_reverse_node([1,2,3,4,5], k), [2,1,4,3,5], msg = 'this is wrong')\n",
    "        \n",
    "    def test_new_reverse_node3(self):\n",
    "        k =3 \n",
    "        self.assertEqual(self.test1.new_reverse_node([1,2,3,4,5], k), [3,2,1,4,5], msg = 'this is wrong')\n",
    "\n",
    "        \n",
    "unittest.main(argv=[''], verbosity=2, exit=False)        "
   ]
  },
  {
   "cell_type": "code",
   "execution_count": null,
   "metadata": {},
   "outputs": [],
   "source": []
  },
  {
   "cell_type": "code",
   "execution_count": null,
   "metadata": {},
   "outputs": [],
   "source": []
  }
 ],
 "metadata": {
  "kernelspec": {
   "display_name": "Python 3",
   "language": "python",
   "name": "python3"
  },
  "language_info": {
   "codemirror_mode": {
    "name": "ipython",
    "version": 3
   },
   "file_extension": ".py",
   "mimetype": "text/x-python",
   "name": "python",
   "nbconvert_exporter": "python",
   "pygments_lexer": "ipython3",
   "version": "3.6.4"
  }
 },
 "nbformat": 4,
 "nbformat_minor": 2
}
