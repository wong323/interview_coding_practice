{
 "cells": [
  {
   "cell_type": "markdown",
   "metadata": {},
   "source": [
    "Given string S and a dictionary of words words, find the number of words[i] that is a subsequence of S.\n",
    "\n",
    "Example :\n",
    "\n",
    "Input: \n",
    "\n",
    "S = \"abcde\"\n",
    "\n",
    "words = [\"a\", \"bb\", \"acd\", \"ace\"]\n",
    "\n",
    "Output: 3\n",
    "\n",
    "Explanation: There are three words in words that are a subsequence of S: \"a\", \"acd\", \"ace\".\n",
    "Note:\n",
    "\n",
    "\n",
    "All words in words and S will only consists of lowercase letters.\n",
    "The length of S will be in the range of [1, 50000].\n",
    "The length of words will be in the range of [1, 5000].\n",
    "The length of words[i] will be in the range of [1, 50]."
   ]
  },
  {
   "cell_type": "code",
   "execution_count": 2,
   "metadata": {},
   "outputs": [],
   "source": [
    "import pandas as pd\n",
    "import numpy as np\n",
    "import unittest"
   ]
  },
  {
   "cell_type": "code",
   "execution_count": 4,
   "metadata": {},
   "outputs": [
    {
     "name": "stderr",
     "output_type": "stream",
     "text": [
      "test_solution_hard (__main__.solutionTestCase) ... ok\n",
      "test_solution_simple (__main__.solutionTestCase) ... ok\n",
      "test_solution_superhard (__main__.solutionTestCase) ... ok\n",
      "\n",
      "----------------------------------------------------------------------\n",
      "Ran 3 tests in 0.009s\n",
      "\n",
      "OK\n"
     ]
    },
    {
     "data": {
      "text/plain": [
       "<unittest.main.TestProgram at 0x21706ba67f0>"
      ]
     },
     "execution_count": 4,
     "metadata": {},
     "output_type": "execute_result"
    }
   ],
   "source": [
    "class solutionTestCase(unittest.TestCase):\n",
    "    def setUp(self):\n",
    "        self.number = solution()\n",
    "        \n",
    "    def test_solution_simple(self):\n",
    "        s = \"abcde\"\n",
    "        words = [\"a\", \"bb\", \"acd\", \"ace\"]\n",
    "        #words = [\"ace\", \"bb\"]\n",
    "        self.assertEqual(self.number.return_number(s, words), 3, msg='this is wrong')\n",
    "        \n",
    "    def test_solution_hard(self):\n",
    "        s = \"abcdea\" \n",
    "        words = [\"a\", \"bb\", \"acd\", \"ace\"]\n",
    "        #words = [\"ace\", \"bb\"]\n",
    "        self.assertEqual(self.number.return_number(s, words), 3, msg='this is wrong')\n",
    "        \n",
    "    def test_solution_superhard(self):\n",
    "        s = \"abcdbeab\" \n",
    "        words = [\"adc\"]\n",
    "        #words = [\"ace\", \"bb\"]\n",
    "        self.assertEqual(self.number.return_number(s, words), 0, msg='this is wrong')\n",
    "        \n",
    "unittest.main(argv=[''], verbosity=2, exit=False)"
   ]
  },
  {
   "cell_type": "code",
   "execution_count": 3,
   "metadata": {},
   "outputs": [],
   "source": [
    "class solution(object):\n",
    "    def __init__(self):\n",
    "        self.number = 0\n",
    "        \n",
    "    def return_number(self, s, words):\n",
    "        self.number = 0\n",
    "        for w in words:\n",
    "            if self.check_sub(s, w):\n",
    "                self.number += 1\n",
    "                \n",
    "        return self.number\n",
    "                \n",
    "    def check_sub(self, s, w):\n",
    "        d = {}\n",
    "        for charac in range(len(s)):\n",
    "            d[charac] = s[charac]\n",
    "\n",
    "        for character_index in range(len(w)):\n",
    "\n",
    "            if w[character_index] not in d.values():\n",
    "                return False\n",
    "            \n",
    "            else:\n",
    "                key_list=[]\n",
    "                for k, v in d.items():\n",
    "                    if v == w[character_index]:\n",
    "                        key_list.append(k)\n",
    "                min_s_index = min(key_list)\n",
    "                \n",
    "                for k, v in list(d.items()):\n",
    "                    if k <= min_s_index:\n",
    "                        del d[k]    \n",
    "                \n",
    "        return True\n",
    "    "
   ]
  },
  {
   "cell_type": "code",
   "execution_count": null,
   "metadata": {},
   "outputs": [],
   "source": []
  },
  {
   "cell_type": "code",
   "execution_count": null,
   "metadata": {},
   "outputs": [],
   "source": []
  },
  {
   "cell_type": "code",
   "execution_count": null,
   "metadata": {},
   "outputs": [],
   "source": []
  },
  {
   "cell_type": "code",
   "execution_count": 18,
   "metadata": {},
   "outputs": [],
   "source": [
    "s = \"abcde\""
   ]
  },
  {
   "cell_type": "code",
   "execution_count": 19,
   "metadata": {},
   "outputs": [
    {
     "data": {
      "text/plain": [
       "'b'"
      ]
     },
     "execution_count": 19,
     "metadata": {},
     "output_type": "execute_result"
    }
   ],
   "source": [
    "s[1]"
   ]
  },
  {
   "cell_type": "code",
   "execution_count": 20,
   "metadata": {},
   "outputs": [
    {
     "data": {
      "text/plain": [
       "5"
      ]
     },
     "execution_count": 20,
     "metadata": {},
     "output_type": "execute_result"
    }
   ],
   "source": [
    "len(s)"
   ]
  },
  {
   "cell_type": "code",
   "execution_count": null,
   "metadata": {},
   "outputs": [],
   "source": []
  },
  {
   "cell_type": "code",
   "execution_count": 44,
   "metadata": {},
   "outputs": [],
   "source": [
    "s = \"abcde\""
   ]
  },
  {
   "cell_type": "code",
   "execution_count": 45,
   "metadata": {},
   "outputs": [],
   "source": [
    "s = s[1:len(s)]"
   ]
  },
  {
   "cell_type": "code",
   "execution_count": 46,
   "metadata": {},
   "outputs": [
    {
     "data": {
      "text/plain": [
       "'bcde'"
      ]
     },
     "execution_count": 46,
     "metadata": {},
     "output_type": "execute_result"
    }
   ],
   "source": [
    "s"
   ]
  },
  {
   "cell_type": "code",
   "execution_count": 39,
   "metadata": {},
   "outputs": [
    {
     "name": "stdout",
     "output_type": "stream",
     "text": [
      "{'a': 0, 'b': 1, 'c': 2, 'd': 3, 'e': 4}\n"
     ]
    }
   ],
   "source": [
    "d = {}\n",
    "for charac in range(len(s)):\n",
    "     d[s[charac]] = charac\n",
    "print(d)"
   ]
  },
  {
   "cell_type": "code",
   "execution_count": 34,
   "metadata": {
    "scrolled": true
   },
   "outputs": [
    {
     "data": {
      "text/plain": [
       "dict_values([0, 1, 2, 3, 4])"
      ]
     },
     "execution_count": 34,
     "metadata": {},
     "output_type": "execute_result"
    }
   ],
   "source": [
    "d.values()"
   ]
  },
  {
   "cell_type": "code",
   "execution_count": 35,
   "metadata": {},
   "outputs": [
    {
     "data": {
      "text/plain": [
       "dict_keys(['a', 'b', 'c', 'd', 'e'])"
      ]
     },
     "execution_count": 35,
     "metadata": {},
     "output_type": "execute_result"
    }
   ],
   "source": [
    "d.keys()"
   ]
  },
  {
   "cell_type": "code",
   "execution_count": null,
   "metadata": {},
   "outputs": [],
   "source": []
  },
  {
   "cell_type": "code",
   "execution_count": 71,
   "metadata": {},
   "outputs": [
    {
     "data": {
      "text/plain": [
       "0"
      ]
     },
     "execution_count": 71,
     "metadata": {},
     "output_type": "execute_result"
    }
   ],
   "source": [
    "l = [0,1]\n",
    "min(l)"
   ]
  }
 ],
 "metadata": {
  "kernelspec": {
   "display_name": "Python 3",
   "language": "python",
   "name": "python3"
  },
  "language_info": {
   "codemirror_mode": {
    "name": "ipython",
    "version": 3
   },
   "file_extension": ".py",
   "mimetype": "text/x-python",
   "name": "python",
   "nbconvert_exporter": "python",
   "pygments_lexer": "ipython3",
   "version": "3.6.4"
  }
 },
 "nbformat": 4,
 "nbformat_minor": 2
}
