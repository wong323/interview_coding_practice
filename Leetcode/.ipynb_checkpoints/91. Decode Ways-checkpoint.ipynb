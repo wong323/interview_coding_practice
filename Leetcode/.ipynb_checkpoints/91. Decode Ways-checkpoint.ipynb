{
 "cells": [
  {
   "cell_type": "markdown",
   "metadata": {},
   "source": [
    "A message containing letters from A-Z is being encoded to numbers using the following mapping:\n",
    "\n",
    "'A' -> 1\n",
    "'B' -> 2\n",
    "...\n",
    "'Z' -> 26\n",
    "\n",
    "Given a non-empty string containing only digits, determine the total number of ways to decode it.\n",
    "\n",
    "Example 1:\n",
    "\n",
    "Input: \"12\"\n",
    "\n",
    "Output: 2\n",
    "\n",
    "Explanation: It could be decoded as \"AB\" (1 2) or \"L\" (12).\n",
    "\n",
    "Example 2:\n",
    "\n",
    "Input: \"226\"\n",
    "\n",
    "Output: 3\n",
    "\n",
    "Explanation: It could be decoded as \"BZ\" (2 26), \"VF\" (22 6), or \"BBF\" (2 2 6)."
   ]
  },
  {
   "cell_type": "code",
   "execution_count": 2,
   "metadata": {},
   "outputs": [],
   "source": [
    "import unittest"
   ]
  },
  {
   "cell_type": "code",
   "execution_count": 32,
   "metadata": {},
   "outputs": [
    {
     "name": "stderr",
     "output_type": "stream",
     "text": [
      "test_num_decode (__main__.test_solution) ... "
     ]
    },
    {
     "name": "stdout",
     "output_type": "stream",
     "text": [
      "2\n",
      "[1, 1, 2]\n"
     ]
    },
    {
     "name": "stderr",
     "output_type": "stream",
     "text": [
      "ok\n",
      "\n",
      "----------------------------------------------------------------------\n",
      "Ran 1 test in 0.001s\n",
      "\n",
      "OK\n"
     ]
    },
    {
     "data": {
      "text/plain": [
       "<unittest.main.TestProgram at 0x22a6e6c3ac8>"
      ]
     },
     "execution_count": 32,
     "metadata": {},
     "output_type": "execute_result"
    }
   ],
   "source": [
    "class test_solution(unittest.TestCase):\n",
    "    def setUp(self):\n",
    "        self.s = Solution()\n",
    "        \n",
    "    def test_num_decode(self):\n",
    "        l = \"12\"\n",
    "        ans = 2\n",
    "        self.assertEqual(self.s.numDecodings(l), ans, msg='this is wrong')\n",
    "        \n",
    "unittest.main(argv=[''], verbosity=2, exit=False)"
   ]
  },
  {
   "cell_type": "code",
   "execution_count": 31,
   "metadata": {},
   "outputs": [
    {
     "name": "stdout",
     "output_type": "stream",
     "text": [
      "6\n",
      "[1, 1, 2, 3, 2, 2, 4]\n",
      "4\n"
     ]
    }
   ],
   "source": [
    "class Solution(object):\n",
    "    def numDecodings(self, s):\n",
    "        \"\"\"\n",
    "        :type s: str\n",
    "        :rtype: int\n",
    "        \"\"\"\n",
    "        if len(s) == 0 or s[0] == '0':\n",
    "            return 0\n",
    "        dp = [0] * (max(len(s) + 1,2))\n",
    "        dp[0],dp[1] = 1,1\n",
    "\n",
    "        print(len(s))\n",
    "        for i in range(2,len(s) + 1):\n",
    "            if 10 <= int(s[i - 2:i]) <= 26 and s[i - 1] != '0':\n",
    "                dp[i] = dp[i - 1] + dp[i - 2]\n",
    "            elif int(s[i-2:i]) == 10 or int(s[i-2:i]) == 20:\n",
    "                dp[i] = dp[i - 2]\n",
    "            elif s[i-1] != '0':\n",
    "                dp[i] = dp[i - 1]\n",
    "            else:\n",
    "                return 0\n",
    "        print(dp)\n",
    "        return dp[len(s)]\n",
    " \n",
    "if __name__ == '__main__':\n",
    "    S = Solution()\n",
    "    s= \"122021\"\n",
    "    print(S.numDecodings(s))\n",
    "    "
   ]
  },
  {
   "cell_type": "code",
   "execution_count": null,
   "metadata": {},
   "outputs": [],
   "source": []
  }
 ],
 "metadata": {
  "kernelspec": {
   "display_name": "Python 3",
   "language": "python",
   "name": "python3"
  },
  "language_info": {
   "codemirror_mode": {
    "name": "ipython",
    "version": 3
   },
   "file_extension": ".py",
   "mimetype": "text/x-python",
   "name": "python",
   "nbconvert_exporter": "python",
   "pygments_lexer": "ipython3",
   "version": "3.6.4"
  }
 },
 "nbformat": 4,
 "nbformat_minor": 2
}
