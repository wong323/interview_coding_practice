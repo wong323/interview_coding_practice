{
 "cells": [
  {
   "cell_type": "markdown",
   "metadata": {},
   "source": [
    "Given a string, find the length of the longest substring without repeating characters.\n",
    "\n",
    "\n",
    "Example 1:\n",
    "\n",
    "    Input: \"abcabcbb\"\n",
    "    Output: 3 \n",
    "    Explanation: The answer is \"abc\", which the length is 3.\n",
    "\n",
    "\n",
    "Example 2:\n",
    "\n",
    "    Input: \"bbbbb\"\n",
    "    Output: 1\n",
    "    Explanation: The answer is \"b\", with the length of 1.\n",
    "\n",
    "\n",
    "Example 3:\n",
    "\n",
    "    Input: \"pwwkew\"\n",
    "    Output: 3\n",
    "    Explanation: The answer is \"wke\", with the length of 3. \n",
    "   \n",
    "Note that the answer must be a substring, \"pwke\" is a subsequence and not a substring."
   ]
  },
  {
   "cell_type": "code",
   "execution_count": 3,
   "metadata": {},
   "outputs": [],
   "source": [
    "import pandas as pd\n",
    "import numpy as np\n",
    "import unittest"
   ]
  },
  {
   "cell_type": "code",
   "execution_count": 10,
   "metadata": {},
   "outputs": [
    {
     "ename": "SyntaxError",
     "evalue": "invalid syntax (<ipython-input-10-6cf5c9b3c62a>, line 1)",
     "output_type": "error",
     "traceback": [
      "\u001b[1;36m  File \u001b[1;32m\"<ipython-input-10-6cf5c9b3c62a>\"\u001b[1;36m, line \u001b[1;32m1\u001b[0m\n\u001b[1;33m    for i in range(9:1):\u001b[0m\n\u001b[1;37m                    ^\u001b[0m\n\u001b[1;31mSyntaxError\u001b[0m\u001b[1;31m:\u001b[0m invalid syntax\n"
     ]
    }
   ],
   "source": [
    "for i in range(9:1):\n",
    "    print(i)"
   ]
  },
  {
   "cell_type": "code",
   "execution_count": 11,
   "metadata": {},
   "outputs": [
    {
     "name": "stdout",
     "output_type": "stream",
     "text": [
      "3\n"
     ]
    }
   ],
   "source": [
    "class solution(object):\n",
    "    \n",
    "    def check(self, s):\n",
    "        for i in s:\n",
    "            if s.count(i) == 1:\n",
    "                pass\n",
    "            else:      \n",
    "                return False\n",
    "        return True\n",
    "    \n",
    "    def find_ss(self, s):\n",
    "        max_ss_len = 1\n",
    "        \n",
    "        max_len = len(s)\n",
    "        \n",
    "        for j in range(0, max_len):\n",
    "            #end = max_len - j\n",
    "            \n",
    "            for i in range(j+1, max_len):\n",
    "                substring = s[j:j+i]\n",
    "                \n",
    "                if self.check(substring):\n",
    "                    if len(substring) > max_ss_len:\n",
    "                        max_ss_len = len(substring)\n",
    "                else:\n",
    "                    break\n",
    "\n",
    "\n",
    "        return max_ss_len\n",
    "            \n",
    "            \n",
    "x = solution()\n",
    "y = x.find_ss(\"pwwkew\")\n",
    "print(y)"
   ]
  },
  {
   "cell_type": "code",
   "execution_count": 12,
   "metadata": {},
   "outputs": [
    {
     "name": "stderr",
     "output_type": "stream",
     "text": [
      "test_findss (__main__.solutionTestCase) ... ok\n",
      "\n",
      "----------------------------------------------------------------------\n",
      "Ran 1 test in 0.002s\n",
      "\n",
      "OK\n"
     ]
    },
    {
     "data": {
      "text/plain": [
       "<unittest.main.TestProgram at 0x202be0a10b8>"
      ]
     },
     "execution_count": 12,
     "metadata": {},
     "output_type": "execute_result"
    }
   ],
   "source": [
    "class solutionTestCase(unittest.TestCase):\n",
    "    def setUp(self):\n",
    "        self.test1 = solution()\n",
    "        \n",
    "    def test_findss(self):\n",
    "        s1 = \"abcabcbb\"\n",
    "        s2 = \"bbbbb\"\n",
    "        s3 = \"pwwkew\"\n",
    "        self.assertEqual(self.test1.find_ss(s1), 3, msg='this is wrong')\n",
    "        self.assertEqual(self.test1.find_ss(s2), 1, msg='this is wrong')\n",
    "        self.assertEqual(self.test1.find_ss(s3), 3, msg='this is wrong')\n",
    "        \n",
    "        \n",
    "unittest.main(argv=[''], verbosity=2, exit=False)\n"
   ]
  },
  {
   "cell_type": "code",
   "execution_count": null,
   "metadata": {},
   "outputs": [],
   "source": []
  },
  {
   "cell_type": "code",
   "execution_count": null,
   "metadata": {},
   "outputs": [],
   "source": []
  },
  {
   "cell_type": "code",
   "execution_count": null,
   "metadata": {},
   "outputs": [],
   "source": []
  },
  {
   "cell_type": "code",
   "execution_count": null,
   "metadata": {},
   "outputs": [],
   "source": []
  }
 ],
 "metadata": {
  "kernelspec": {
   "display_name": "Python 3",
   "language": "python",
   "name": "python3"
  },
  "language_info": {
   "codemirror_mode": {
    "name": "ipython",
    "version": 3
   },
   "file_extension": ".py",
   "mimetype": "text/x-python",
   "name": "python",
   "nbconvert_exporter": "python",
   "pygments_lexer": "ipython3",
   "version": "3.6.4"
  }
 },
 "nbformat": 4,
 "nbformat_minor": 2
}
