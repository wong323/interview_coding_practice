{
 "cells": [
  {
   "cell_type": "markdown",
   "metadata": {},
   "source": [
    "Given a string s, find the longest palindromic substring in s. You may assume that the maximum length of s is 1000.\n",
    "\n",
    "### Example 1:\n",
    "\n",
    "    Input: \"babad\"\n",
    "    Output: \"bab\"\n",
    "    Note: \"aba\" is also a valid answer.\n",
    "\n",
    "### Example 2:\n",
    "\n",
    "    Input: \"cbbd\"\n",
    "    Output: \"bb\""
   ]
  },
  {
   "cell_type": "code",
   "execution_count": 2,
   "metadata": {},
   "outputs": [],
   "source": [
    "import pandas as pd\n",
    "import numpy as np\n",
    "import unittest"
   ]
  },
  {
   "cell_type": "code",
   "execution_count": 14,
   "metadata": {},
   "outputs": [
    {
     "name": "stdout",
     "output_type": "stream",
     "text": [
      "aba\n"
     ]
    }
   ],
   "source": [
    "class solution(object):\n",
    "    \n",
    "    def longestSubstringFinder(self, string1, string2):\n",
    "        answer = \"\"\n",
    "        len1, len2 = len(string1), len(string2)\n",
    "        for i in range(len1):\n",
    "            match = \"\"\n",
    "            for j in range(len2):\n",
    "                if (i + j < len1 and string1[i + j] == string2[j]):\n",
    "                    match += string2[j]\n",
    "                else:\n",
    "                    if (len(match) > len(answer)): answer = match\n",
    "                    match = \"\"\n",
    "        return answer\n",
    "\n",
    "    def find_ps(self, s):\n",
    "        \n",
    "        longestss = \"\"\n",
    "        longest_length = 0\n",
    "        rs = s[::-1]\n",
    "        \n",
    "        answer = self.longestSubstringFinder(s, rs)\n",
    "        \n",
    "        \n",
    "        return answer\n",
    "    \n",
    "s = 'babad'\n",
    "x = solution()\n",
    "y = x.find_ps(s)\n",
    "print(y)"
   ]
  },
  {
   "cell_type": "code",
   "execution_count": 21,
   "metadata": {},
   "outputs": [
    {
     "name": "stderr",
     "output_type": "stream",
     "text": [
      "test_findps (__main__.solutionTestCase) ... ok\n",
      "\n",
      "----------------------------------------------------------------------\n",
      "Ran 1 test in 0.002s\n",
      "\n",
      "OK\n"
     ]
    },
    {
     "data": {
      "text/plain": [
       "<unittest.main.TestProgram at 0x18706888e80>"
      ]
     },
     "execution_count": 21,
     "metadata": {},
     "output_type": "execute_result"
    }
   ],
   "source": [
    "class solutionTestCase(unittest.TestCase):\n",
    "    \n",
    "    def setUp(self):\n",
    "        self.test1 = solution()\n",
    "        \n",
    "    def test_findps(self):\n",
    "        self.assertEqual(self.test1.find_ps('babad'), \"aba\", msg='this is wrong')\n",
    "        self.assertEqual(self.test1.find_ps(\"cbbd\"), \"bb\", msg='this is wrong')\n",
    "        \n",
    "        \n",
    "unittest.main(argv=[''], verbosity=2, exit=False)"
   ]
  },
  {
   "cell_type": "code",
   "execution_count": null,
   "metadata": {},
   "outputs": [],
   "source": []
  },
  {
   "cell_type": "code",
   "execution_count": null,
   "metadata": {},
   "outputs": [],
   "source": []
  },
  {
   "cell_type": "code",
   "execution_count": null,
   "metadata": {},
   "outputs": [],
   "source": []
  }
 ],
 "metadata": {
  "kernelspec": {
   "display_name": "Python 3",
   "language": "python",
   "name": "python3"
  },
  "language_info": {
   "codemirror_mode": {
    "name": "ipython",
    "version": 3
   },
   "file_extension": ".py",
   "mimetype": "text/x-python",
   "name": "python",
   "nbconvert_exporter": "python",
   "pygments_lexer": "ipython3",
   "version": "3.6.4"
  }
 },
 "nbformat": 4,
 "nbformat_minor": 2
}
