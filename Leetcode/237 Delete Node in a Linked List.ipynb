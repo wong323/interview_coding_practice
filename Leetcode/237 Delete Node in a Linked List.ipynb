{
 "cells": [
  {
   "cell_type": "markdown",
   "metadata": {},
   "source": [
    "Write a function to delete a node (except the tail) in a singly linked list, given only access to that node.\n",
    "\n",
    "\n",
    "Given linked list -- head = [4,5,1,9], which looks like following:\n",
    "\n",
    "    4 -> 5 -> 1 -> 9\n",
    "\n",
    "\n",
    "Example 1:\n",
    "\n",
    "Input: head = [4,5,1,9], node = 5\n",
    "Output: [4,1,9]\n",
    "\n",
    "Explanation: You are given the second node with value 5, the linked list\n",
    "             should become 4 -> 1 -> 9 after calling your function.\n",
    "\n",
    "\n",
    "Example 2:\n",
    "\n",
    "Input: head = [4,5,1,9], node = 1\n",
    "Output: [4,5,9]\n",
    "\n",
    "Explanation: You are given the third node with value 1, the linked list\n",
    "             should become 4 -> 5 -> 9 after calling your function.\n",
    "\n",
    "Note:\n",
    "\n",
    "The linked list will have at least two elements.\n",
    "All of the nodes' values will be unique.\n",
    "The given node will not be the tail and it will always be a valid node of the linked list.\n",
    "Do not return anything from your function."
   ]
  },
  {
   "cell_type": "code",
   "execution_count": 2,
   "metadata": {},
   "outputs": [],
   "source": [
    "import unittest"
   ]
  },
  {
   "cell_type": "code",
   "execution_count": 7,
   "metadata": {},
   "outputs": [],
   "source": [
    "class solution(object):\n",
    "    \n",
    "    def delete_node(self, l, n):\n",
    "        l.remove(n)\n",
    "        return l"
   ]
  },
  {
   "cell_type": "code",
   "execution_count": 8,
   "metadata": {},
   "outputs": [
    {
     "name": "stderr",
     "output_type": "stream",
     "text": [
      "test_delete_node (__main__.solutionTestCase) ... ok\n",
      "\n",
      "----------------------------------------------------------------------\n",
      "Ran 1 test in 0.002s\n",
      "\n",
      "OK\n"
     ]
    },
    {
     "data": {
      "text/plain": [
       "<unittest.main.TestProgram at 0x240a9a74860>"
      ]
     },
     "execution_count": 8,
     "metadata": {},
     "output_type": "execute_result"
    }
   ],
   "source": [
    "class solutionTestCase(unittest.TestCase):\n",
    "    \n",
    "    def setUp(self):\n",
    "        self.test1 = solution()\n",
    "        \n",
    "    def test_delete_node(self):\n",
    "        l =  [4,5,1,9]\n",
    "        l2 = [4,1,9]\n",
    "        n = 5\n",
    "        self.assertEqual(self.test1.delete_node(l, n), l2, msg='this is wrong')\n",
    "        \n",
    "unittest.main(argv=[''], verbosity=2, exit=False)   "
   ]
  },
  {
   "cell_type": "code",
   "execution_count": null,
   "metadata": {},
   "outputs": [],
   "source": []
  },
  {
   "cell_type": "code",
   "execution_count": null,
   "metadata": {},
   "outputs": [],
   "source": []
  }
 ],
 "metadata": {
  "kernelspec": {
   "display_name": "Python 3",
   "language": "python",
   "name": "python3"
  },
  "language_info": {
   "codemirror_mode": {
    "name": "ipython",
    "version": 3
   },
   "file_extension": ".py",
   "mimetype": "text/x-python",
   "name": "python",
   "nbconvert_exporter": "python",
   "pygments_lexer": "ipython3",
   "version": "3.6.4"
  }
 },
 "nbformat": 4,
 "nbformat_minor": 2
}
