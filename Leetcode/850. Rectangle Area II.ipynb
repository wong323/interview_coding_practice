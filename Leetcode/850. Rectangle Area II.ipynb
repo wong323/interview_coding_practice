{
 "cells": [
  {
   "cell_type": "markdown",
   "metadata": {},
   "source": [
    "We are given a list of (axis-aligned) rectangles.  Each rectangle[i] = [x1, y1, x2, y2] , where (x1, y1) are the coordinates of the bottom-left corner, and (x2, y2) are the coordinates of the top-right corner of the ith rectangle.\n",
    "\n",
    "Find the total area covered by all rectangles in the plane.  Since the answer may be too large, return it modulo 10^9 + 7.\n",
    "\n",
    "\n",
    "\n",
    "Example 1:\n",
    "\n",
    "Input: [[0,0,2,2],[1,0,2,3],[1,0,3,1]]\n",
    "Output: 6\n",
    "\n",
    "Explanation: As illustrated in the picture.\n",
    "\n",
    "\n",
    "Example 2:\n",
    "\n",
    "Input: [[0,0,1000000000,1000000000]]\n",
    "Output: 49\n",
    "\n",
    "Explanation: The answer is 10^18 modulo (10^9 + 7), which is (10^9)^2 = (-7)^2 = 49.\n",
    "Note:\n",
    "\n",
    "\n",
    "1 <= rectangles.length <= 200\n",
    "rectanges[i].length = 4\n",
    "0 <= rectangles[i][j] <= 10^9\n",
    "The total area covered by all rectangles will never exceed 2^63 - 1 and thus will fit in a 64-bit signed integer."
   ]
  },
  {
   "cell_type": "code",
   "execution_count": 1,
   "metadata": {},
   "outputs": [],
   "source": [
    "import unittest"
   ]
  },
  {
   "cell_type": "code",
   "execution_count": 13,
   "metadata": {},
   "outputs": [],
   "source": [
    "class solution(object):\n",
    "    \n",
    "    def area_rect(self, l):\n",
    "        area = (l[2]-l[0])*(l[3]-l[1])\n",
    "        return area\n",
    "    \n",
    "    def find_area(self, ll):\n",
    "        total_area = 0\n",
    "        for rect in ll:\n",
    "            total_area += self.area_rect(rect)\n",
    "            \n",
    "        return total_area"
   ]
  },
  {
   "cell_type": "code",
   "execution_count": 14,
   "metadata": {},
   "outputs": [
    {
     "name": "stderr",
     "output_type": "stream",
     "text": [
      "test_find_area (__main__.solutionTestCase) ... FAIL\n",
      "\n",
      "======================================================================\n",
      "FAIL: test_find_area (__main__.solutionTestCase)\n",
      "----------------------------------------------------------------------\n",
      "Traceback (most recent call last):\n",
      "  File \"<ipython-input-14-ac70ed5f9efc>\", line 8, in test_find_area\n",
      "    self.assertEqual(self.test1.find_area(l), answer, msg='this is wrong')\n",
      "AssertionError: 9 != 6 : this is wrong\n",
      "\n",
      "----------------------------------------------------------------------\n",
      "Ran 1 test in 0.004s\n",
      "\n",
      "FAILED (failures=1)\n"
     ]
    },
    {
     "data": {
      "text/plain": [
       "<unittest.main.TestProgram at 0x20ef1b5a470>"
      ]
     },
     "execution_count": 14,
     "metadata": {},
     "output_type": "execute_result"
    }
   ],
   "source": [
    "class solutionTestCase(unittest.TestCase):\n",
    "    def setUp(self):\n",
    "        self.test1 = solution()\n",
    "        \n",
    "    def test_find_area(self):\n",
    "        l = [[0,0,2,2],[1,0,2,3],[1,0,3,1]] \n",
    "        answer = 6\n",
    "        self.assertEqual(self.test1.find_area(l), answer, msg='this is wrong')\n",
    "        \n",
    "unittest.main(argv=[''], verbosity=2, exit=False)              "
   ]
  },
  {
   "cell_type": "code",
   "execution_count": null,
   "metadata": {},
   "outputs": [],
   "source": []
  }
 ],
 "metadata": {
  "kernelspec": {
   "display_name": "Python 3",
   "language": "python",
   "name": "python3"
  },
  "language_info": {
   "codemirror_mode": {
    "name": "ipython",
    "version": 3
   },
   "file_extension": ".py",
   "mimetype": "text/x-python",
   "name": "python",
   "nbconvert_exporter": "python",
   "pygments_lexer": "ipython3",
   "version": "3.6.4"
  }
 },
 "nbformat": 4,
 "nbformat_minor": 2
}
