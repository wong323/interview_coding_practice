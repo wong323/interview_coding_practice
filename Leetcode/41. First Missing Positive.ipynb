{
 "cells": [
  {
   "cell_type": "markdown",
   "metadata": {},
   "source": [
    "Given an unsorted integer array, find the smallest missing positive integer.\n",
    "\n",
    "Example 1:\n",
    "\n",
    "Input: [1,2,0]\n",
    "Output: 3\n",
    "\n",
    "Example 2:\n",
    "\n",
    "Input: [3,4,-1,1]\n",
    "Output: 2\n",
    "\n",
    "Example 3:\n",
    "\n",
    "Input: [7,8,9,11,12]\n",
    "Output: 1\n",
    "Note:\n",
    "\n",
    "Your algorithm should run in O(n) time and uses constant extra space."
   ]
  },
  {
   "cell_type": "code",
   "execution_count": 13,
   "metadata": {},
   "outputs": [],
   "source": [
    "import unittest"
   ]
  },
  {
   "cell_type": "code",
   "execution_count": 14,
   "metadata": {},
   "outputs": [
    {
     "data": {
      "text/plain": [
       "[1, 2, 3, 4, 5]"
      ]
     },
     "execution_count": 14,
     "metadata": {},
     "output_type": "execute_result"
    }
   ],
   "source": [
    "l = [1,2,3,5,4]\n",
    "l.sort()\n",
    "l"
   ]
  },
  {
   "cell_type": "code",
   "execution_count": 22,
   "metadata": {},
   "outputs": [],
   "source": [
    "class solution(object):\n",
    "    \n",
    "    def find_missing(self, l):\n",
    "        counter = 1\n",
    "        for i in l:\n",
    "            if counter in l:\n",
    "                counter += 1\n",
    "            else:\n",
    "                break\n",
    "                \n",
    "        return counter\n",
    "    \n",
    "    def find_missing_opt(self, l):\n",
    "        l.sort()\n",
    "        \n",
    "        if l[0] > 1:\n",
    "            return 1\n",
    "        \n",
    "        for i in range(0, len(l)):\n",
    "            if l[i] > 0:\n",
    "                pos_list = l[i:len(l)]\n",
    "                \n",
    "                for j in range(0, len(pos_list)):\n",
    "                    if pos_list[j] != j+1:\n",
    "                        return pos_list[j-1] + 1\n",
    "                    \n",
    "                return j+1\n",
    "        \n",
    "                    \n",
    "            else:\n",
    "                pass\n",
    "            \n",
    "        return 1\n",
    "                    \n",
    "        \n"
   ]
  },
  {
   "cell_type": "code",
   "execution_count": 24,
   "metadata": {},
   "outputs": [
    {
     "name": "stderr",
     "output_type": "stream",
     "text": [
      "test_find_missing (__main__.solutionTestCase) ... ok\n",
      "test_find_missing_opt (__main__.solutionTestCase) ... ok\n",
      "\n",
      "----------------------------------------------------------------------\n",
      "Ran 2 tests in 0.003s\n",
      "\n",
      "OK\n"
     ]
    },
    {
     "data": {
      "text/plain": [
       "<unittest.main.TestProgram at 0x1849e6c41d0>"
      ]
     },
     "execution_count": 24,
     "metadata": {},
     "output_type": "execute_result"
    }
   ],
   "source": [
    "class solutionTestCase(unittest.TestCase):\n",
    "    \n",
    "    def setUp(self):\n",
    "        self.test1 = solution()\n",
    "        \n",
    "    def test_find_missing(self):\n",
    "        l =  [1,2,0] \n",
    "        n = 3\n",
    "        self.assertEqual(self.test1.find_missing(l), n, msg='this is wrong')\n",
    "        self.assertEqual(self.test1.find_missing([7,8,9,11,12]), 1, msg='this is wrong')\n",
    "        \n",
    "    def test_find_missing_opt(self):\n",
    "        l =  [-1, -2, 0, 1, 4, 5] \n",
    "        self.assertEqual(self.test1.find_missing_opt(l), 2, msg='this is wrong')\n",
    "        self.assertEqual(self.test1.find_missing_opt([7,8,9,11,12]), 1, msg='this is wrong')\n",
    "        \n",
    "unittest.main(argv=[''], verbosity=2, exit=False)   "
   ]
  }
 ],
 "metadata": {
  "kernelspec": {
   "display_name": "Python 3",
   "language": "python",
   "name": "python3"
  },
  "language_info": {
   "codemirror_mode": {
    "name": "ipython",
    "version": 3
   },
   "file_extension": ".py",
   "mimetype": "text/x-python",
   "name": "python",
   "nbconvert_exporter": "python",
   "pygments_lexer": "ipython3",
   "version": "3.6.4"
  }
 },
 "nbformat": 4,
 "nbformat_minor": 2
}
