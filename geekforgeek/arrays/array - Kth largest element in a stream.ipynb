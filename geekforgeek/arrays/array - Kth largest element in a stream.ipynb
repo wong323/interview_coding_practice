{
 "cells": [
  {
   "cell_type": "code",
   "execution_count": 5,
   "metadata": {},
   "outputs": [],
   "source": [
    "from math import inf"
   ]
  },
  {
   "cell_type": "code",
   "execution_count": 12,
   "metadata": {},
   "outputs": [],
   "source": [
    "class solution(object):\n",
    "    \n",
    "    def __init__(self):\n",
    "        self.int_stream = []\n",
    "        \n",
    "    def add_to_stream(self, x):\n",
    "        self.int_stream.append(x)\n",
    "        return self.int_stream\n",
    "    \n",
    "    def find_k_largest(self, k):\n",
    "#         max_so_far = -inf\n",
    "#         # loop thru and keep track of max so far\n",
    "        \n",
    "#         for num in self.int_stream:\n",
    "            \n",
    "#             if num > max_so_far:\n",
    "#                 max_so_far = num\n",
    "#             else:\n",
    "#                 pass\n",
    "            \n",
    "        self.int_stream.sort()\n",
    "        ans = self.int_stream[-k]\n",
    "            \n",
    "        return ans\n",
    "        \n",
    "        \n",
    "        "
   ]
  },
  {
   "cell_type": "code",
   "execution_count": 13,
   "metadata": {},
   "outputs": [
    {
     "data": {
      "text/plain": [
       "5"
      ]
     },
     "execution_count": 13,
     "metadata": {},
     "output_type": "execute_result"
    }
   ],
   "source": [
    "s = solution()\n",
    "s.add_to_stream(5)\n",
    "s.add_to_stream(1)\n",
    "s.add_to_stream(7)\n",
    "s.find_k_largest(2) #expect 5 as output\n"
   ]
  },
  {
   "cell_type": "code",
   "execution_count": 4,
   "metadata": {},
   "outputs": [
    {
     "data": {
      "text/plain": [
       "[5, 1, 7]"
      ]
     },
     "execution_count": 4,
     "metadata": {},
     "output_type": "execute_result"
    }
   ],
   "source": [
    "s.int_stream"
   ]
  },
  {
   "cell_type": "code",
   "execution_count": null,
   "metadata": {},
   "outputs": [],
   "source": []
  }
 ],
 "metadata": {
  "kernelspec": {
   "display_name": "Python 3",
   "language": "python",
   "name": "python3"
  },
  "language_info": {
   "codemirror_mode": {
    "name": "ipython",
    "version": 3
   },
   "file_extension": ".py",
   "mimetype": "text/x-python",
   "name": "python",
   "nbconvert_exporter": "python",
   "pygments_lexer": "ipython3",
   "version": "3.6.4"
  }
 },
 "nbformat": 4,
 "nbformat_minor": 2
}
