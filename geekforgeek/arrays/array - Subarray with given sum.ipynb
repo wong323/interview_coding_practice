{
 "cells": [
  {
   "cell_type": "markdown",
   "metadata": {},
   "source": [
    "Given an unsorted array A of size N of non-negative integers, find a continuous sub-array which adds to a given number."
   ]
  },
  {
   "cell_type": "markdown",
   "metadata": {},
   "source": [
    "Initialize a variable curr_sum as first element. curr_sum indicates the sum of current subarray. Start from the second element and add all elements one by one to the curr_sum. If curr_sum becomes equal to sum, then print the solution. If curr_sum exceeds the sum, then remove trailing elements while curr_sum is greater than sum."
   ]
  },
  {
   "cell_type": "code",
   "execution_count": 16,
   "metadata": {},
   "outputs": [],
   "source": [
    "class solution(object):\n",
    "    \n",
    "    def find_subarray_bad(self, a, k):\n",
    "        \n",
    "        for i in range(0, len(a)):\n",
    "            current_sum = a[i]\n",
    "            if current_sum == k:\n",
    "                    return (i)\n",
    "        \n",
    "            for j in range(i+1, len(a)):\n",
    "                current_sum += a[j]\n",
    "                if current_sum == k:\n",
    "                    return (i, j)\n",
    "                else:\n",
    "                    pass                \n",
    "            \n",
    "        return \"nothing\"\n",
    "    \n",
    "    \n",
    "    def find_subarray (self, a, k):\n",
    "        \n",
    "        current_sum = a[0]\n",
    "        current_starting_index = 0\n",
    "        \n",
    "        for i in range(1, len(a)):\n",
    "            current_sum += a[i]\n",
    "            \n",
    "            if current_sum > k:\n",
    "                current_sum -= a[current_starting_index]\n",
    "                current_starting_index += 1\n",
    "                \n",
    "            if current_sum == k:\n",
    "                return(current_starting_index, i)\n",
    "            \n",
    "                \n",
    "        return 'nothing'\n",
    "                "
   ]
  },
  {
   "cell_type": "code",
   "execution_count": 18,
   "metadata": {},
   "outputs": [
    {
     "data": {
      "text/plain": [
       "'nothing'"
      ]
     },
     "execution_count": 18,
     "metadata": {},
     "output_type": "execute_result"
    }
   ],
   "source": [
    "s = solution()\n",
    "\n",
    "a = [1,2,3,4,5,6]\n",
    "k = 4\n",
    "s.find_subarray(a, k) #should expect 1,2,3"
   ]
  },
  {
   "cell_type": "code",
   "execution_count": null,
   "metadata": {},
   "outputs": [],
   "source": []
  },
  {
   "cell_type": "code",
   "execution_count": null,
   "metadata": {},
   "outputs": [],
   "source": []
  },
  {
   "cell_type": "code",
   "execution_count": null,
   "metadata": {},
   "outputs": [],
   "source": []
  },
  {
   "cell_type": "code",
   "execution_count": null,
   "metadata": {},
   "outputs": [],
   "source": []
  }
 ],
 "metadata": {
  "kernelspec": {
   "display_name": "Python 3",
   "language": "python",
   "name": "python3"
  },
  "language_info": {
   "codemirror_mode": {
    "name": "ipython",
    "version": 3
   },
   "file_extension": ".py",
   "mimetype": "text/x-python",
   "name": "python",
   "nbconvert_exporter": "python",
   "pygments_lexer": "ipython3",
   "version": "3.6.4"
  }
 },
 "nbformat": 4,
 "nbformat_minor": 2
}
