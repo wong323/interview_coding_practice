{
 "cells": [
  {
   "cell_type": "code",
   "execution_count": 2,
   "metadata": {},
   "outputs": [],
   "source": [
    "# Goal: We want to find the largest patch of vehicles in a given world\n",
    "# \n",
    "# Vehicle Types (Integers)\n",
    "# 0 - Pedal\n",
    "# 1 - Electric\n",
    "# 2 - Scooter\n",
    "# \n",
    "# Input (2D Array of Integers):\n",
    "# 220001\n",
    "# 211012\n",
    "# 011112\n",
    "# 000222\n",
    "# \n",
    "# Visualization of Largest Patch:\n",
    "# ------\n",
    "# -11-1-\n",
    "# -1111-\n",
    "# ------\n",
    "# \n",
    "# Output:\n",
    "# => 7 (Vehicles)\n",
    "# \n",
    "# Notes:\n",
    "# * All vehicles in a patch must be the same type\n",
    "# * All vehicles in a patch must be adjacent to one another\n",
    "# * Adjacency: up, down, left, and right\n",
    "# * Assume each cell contains exactly one vehicle\n",
    "# * Assume each cell is not empty"
   ]
  },
  {
   "cell_type": "code",
   "execution_count": 32,
   "metadata": {},
   "outputs": [],
   "source": [
    "import copy"
   ]
  },
  {
   "cell_type": "code",
   "execution_count": 40,
   "metadata": {},
   "outputs": [],
   "source": [
    "class Solution(object):\n",
    "    \n",
    "    def __init__(self, grid):\n",
    "        self.grid = grid\n",
    "        self.row = len(self.grid)\n",
    "        self.col = len(self.grid[0])\n",
    "        self.total_veh = 0\n",
    "    \n",
    "    def count_veh(self):\n",
    "        \n",
    "        max_total_veh = 0\n",
    "        for i in range(self.row):\n",
    "            for j in range(self.col):                \n",
    "                value = self.grid[i][j]\n",
    "                if value == 0:\n",
    "                    self.total_veh = 0\n",
    "                    \n",
    "                # make adjacent zero\n",
    "                self.set_adj_zero(i,j)\n",
    "\n",
    "                if self.total_veh > max_total_veh:\n",
    "                    max_total_veh = self.total_veh\n",
    "               \n",
    "        return max_total_veh\n",
    "    \n",
    "    def set_adj_zero(self, i, j):\n",
    "        \n",
    "        if i < 0 or j < 0 or i >self.row-1 or j>self.col-1:\n",
    "            return\n",
    "        \n",
    "        if self.grid[i][j] == 0:\n",
    "            return\n",
    "        \n",
    "        if self.grid[i][j] == 1:\n",
    "            self.total_veh += 1\n",
    "            self.grid[i][j] = 0\n",
    "            self.set_adj_zero(i, j-1)\n",
    "            self.set_adj_zero(i, j+1)\n",
    "            self.set_adj_zero(i-1, j)\n",
    "            self.set_adj_zero(i+1, j)\n",
    "            \n",
    "def build_grid(originalgrid, veh_type):\n",
    "        \n",
    "    new_grid = copy.deepcopy(originalgrid)\n",
    "    row=len(new_grid)\n",
    "    col=len(new_grid[0])\n",
    "    \n",
    "    for i in range(row):\n",
    "        for j in range(col):\n",
    "            value = new_grid[i][j]\n",
    "            \n",
    "            if value == veh_type:\n",
    "                new_grid[i][j] = 1\n",
    "            \n",
    "            else:\n",
    "                new_grid[i][j] = 0\n",
    "                \n",
    "    return new_grid"
   ]
  },
  {
   "cell_type": "code",
   "execution_count": 36,
   "metadata": {},
   "outputs": [
    {
     "name": "stdout",
     "output_type": "stream",
     "text": [
      "[[2, 2, 0, 0, 0, 1], [2, 1, 1, 0, 1, 2], [0, 1, 1, 1, 1, 2], [0, 0, 0, 2, 2, 2]]\n",
      "[[2, 2, 0, 0, 0, 1], [2, 1, 1, 0, 1, 2], [0, 1, 1, 1, 1, 2], [0, 0, 0, 2, 2, 2]]\n",
      "[[1, 1, 0, 0, 0, 0], [1, 0, 0, 0, 0, 1], [0, 0, 0, 0, 0, 1], [0, 0, 0, 1, 1, 1]]\n"
     ]
    }
   ],
   "source": [
    "tc3 = [[2,2,0,0,0,1], [2,1,1,0,1,2],[0,1,1,1,1,2],[0,0,0,2,2,2]]\n",
    "new_grid = build_grid(tc3, 2)\n",
    "ans3= [[1,1,0,0,0,0], [1,0,0,0,0,1], [0,0,0,0,0,1],[0,0,0,1,1,1]]\n",
    "print(new_grid)"
   ]
  },
  {
   "cell_type": "code",
   "execution_count": 15,
   "metadata": {},
   "outputs": [
    {
     "name": "stdout",
     "output_type": "stream",
     "text": [
      "9\n",
      "4\n",
      "[[1, 1, 0, 0, 0, 0], [1, 0, 0, 0, 0, 1], [0, 0, 0, 0, 0, 1], [0, 0, 0, 1, 1, 1]]\n"
     ]
    }
   ],
   "source": [
    "'''\n",
    "11110\n",
    "11010\n",
    "11000\n",
    "00001\n",
    "'''\n",
    "tc1 = [[1,1,1,1,0],[1,1,0,1,0],[1,1,0,0,0],[0,0,0,0,1]]\n",
    "s = Solution(tc1)\n",
    "ans1 = s.count_veh()\n",
    "print(ans1)\n",
    "\n",
    "'''\n",
    "00000\n",
    "11010\n",
    "11000\n",
    "00011\n",
    "'''\n",
    "tc2 = [[0,0,0,0,0],[1,1,0,1,0],[1,1,0,0,0],[0,0,0,1,1]]\n",
    "s = Solution(tc2)\n",
    "ans2 = s.count_veh()\n",
    "print(ans2)\n",
    "\n",
    "'''\n",
    "220001\n",
    "211012\n",
    "011112\n",
    "000222\n",
    "'''\n",
    "tc3 = [[2,2,0,0,0,1], [2,1,1,0,1,2],[0,1,1,1,1,2],[0,0,0,2,2,2]]\n",
    "new_grid = build_grid(tc3, 2)\n",
    "ans3= [[1,1,0,0,0,0], [1,0,0,0,0,1], [0,0,0,0,0,1],[0,0,0,1,1,1]]\n",
    "print(new_grid)"
   ]
  },
  {
   "cell_type": "code",
   "execution_count": 41,
   "metadata": {},
   "outputs": [
    {
     "name": "stdout",
     "output_type": "stream",
     "text": [
      "7\n"
     ]
    }
   ],
   "source": [
    "# use a loop to iterate thru all vehicale types\n",
    "test_world = [[2,2,0,0,0,1], [2,1,1,0,1,2],[0,1,1,1,1,2],[0,0,0,2,2,2]]\n",
    "veh_type = [0,1,2]\n",
    "final_ans = 0\n",
    "\n",
    "for v in veh_type:\n",
    "    _grid = build_grid(test_world, v)\n",
    "    s = Solution(_grid)\n",
    "    veh_type_count = s.count_veh()\n",
    "\n",
    "    if veh_type_count > final_ans:\n",
    "        final_ans = veh_type_count\n",
    "        \n",
    "print(final_ans)"
   ]
  }
 ],
 "metadata": {
  "kernelspec": {
   "display_name": "Python 3",
   "language": "python",
   "name": "python3"
  },
  "language_info": {
   "codemirror_mode": {
    "name": "ipython",
    "version": 3
   },
   "file_extension": ".py",
   "mimetype": "text/x-python",
   "name": "python",
   "nbconvert_exporter": "python",
   "pygments_lexer": "ipython3",
   "version": "3.6.4"
  }
 },
 "nbformat": 4,
 "nbformat_minor": 2
}
