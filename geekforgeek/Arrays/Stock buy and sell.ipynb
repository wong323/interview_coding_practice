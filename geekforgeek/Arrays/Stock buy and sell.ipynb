{
 "cells": [
  {
   "cell_type": "markdown",
   "metadata": {},
   "source": [
    "The cost of stock on each day is given in an array A. Find all the days on which you buy and sell the stock so that in between those days you shouldn't have any loss.\n",
    "\n",
    "Input: \n",
    "First line contains number of test cases T. Each test case contains the integer value N denoting days followed by an array of stock prices of N days. \n",
    "\n",
    "Output:\n",
    "For each testcase, output all the days with profit in a single line. And if there is no profit then print \"No Profit\""
   ]
  },
  {
   "cell_type": "code",
   "execution_count": 2,
   "metadata": {},
   "outputs": [],
   "source": [
    "import unittest"
   ]
  },
  {
   "cell_type": "code",
   "execution_count": 3,
   "metadata": {},
   "outputs": [
    {
     "name": "stderr",
     "output_type": "stream",
     "text": [
      ".F\n",
      "======================================================================\n",
      "FAIL: test_find_days2 (__main__.test_solution)\n",
      "----------------------------------------------------------------------\n",
      "Traceback (most recent call last):\n",
      "  File \"<ipython-input-3-93a51c611d73>\", line 14, in test_find_days2\n",
      "    self.assertEqual(self.s.find_days(testc), ans)\n",
      "AssertionError: Lists differ: [(0, 0)] != [(1, 4)]\n",
      "\n",
      "First differing element 0:\n",
      "(0, 0)\n",
      "(1, 4)\n",
      "\n",
      "- [(0, 0)]\n",
      "?   ^  ^\n",
      "\n",
      "+ [(1, 4)]\n",
      "?   ^  ^\n",
      "\n",
      "\n",
      "----------------------------------------------------------------------\n",
      "Ran 2 tests in 0.030s\n",
      "\n",
      "FAILED (failures=1)\n"
     ]
    },
    {
     "data": {
      "text/plain": [
       "<unittest.main.TestProgram at 0x1b83f042208>"
      ]
     },
     "execution_count": 3,
     "metadata": {},
     "output_type": "execute_result"
    }
   ],
   "source": [
    "class test_solution(unittest.TestCase):\n",
    "    \n",
    "    def setUp(self):\n",
    "        self.s = solution()\n",
    "        \n",
    "    def test_find_days(self):\n",
    "        testc = [100,180,260,310,40,535,695]\n",
    "        ans = [(0,3)]\n",
    "        self.assertEqual(self.s.find_days(testc), ans)\n",
    "        \n",
    "    def test_find_days2(self):\n",
    "        testc = [23, 13 ,25 ,29 ,33, 19 ,34, 45, 65, 67]\n",
    "        ans = [(1 ,4)]\n",
    "        self.assertEqual(self.s.find_days(testc), ans)\n",
    "        \n",
    "unittest.main(argv=[''], exit=False)   "
   ]
  },
  {
   "cell_type": "code",
   "execution_count": 1,
   "metadata": {},
   "outputs": [],
   "source": [
    "class solution(object):\n",
    "    \n",
    "    def find_days(self, l):\n",
    "        \n",
    "        #deal with up right awa       \n",
    "        list_dates= []\n",
    "        length = len(l)\n",
    "        \n",
    "        current_buy_price = l[0]\n",
    "        current_buy_index = 0\n",
    "        for i in range(1, length):\n",
    "             \n",
    "            if l[i] >= current_buy_price:\n",
    "                pass\n",
    "            else:\n",
    "                sell_index = i-1                \n",
    "                list_dates.append((current_buy_index, sell_index))\n",
    "                current_buy_index = i\n",
    "                current_buy_price = l[i]\n",
    "                \n",
    "        return list_dates\n",
    "                  "
   ]
  },
  {
   "cell_type": "code",
   "execution_count": null,
   "metadata": {},
   "outputs": [],
   "source": []
  },
  {
   "cell_type": "code",
   "execution_count": null,
   "metadata": {},
   "outputs": [],
   "source": []
  },
  {
   "cell_type": "code",
   "execution_count": null,
   "metadata": {},
   "outputs": [],
   "source": []
  },
  {
   "cell_type": "code",
   "execution_count": null,
   "metadata": {},
   "outputs": [],
   "source": []
  },
  {
   "cell_type": "code",
   "execution_count": null,
   "metadata": {},
   "outputs": [],
   "source": []
  }
 ],
 "metadata": {
  "kernelspec": {
   "display_name": "Python 3",
   "language": "python",
   "name": "python3"
  },
  "language_info": {
   "codemirror_mode": {
    "name": "ipython",
    "version": 3
   },
   "file_extension": ".py",
   "mimetype": "text/x-python",
   "name": "python",
   "nbconvert_exporter": "python",
   "pygments_lexer": "ipython3",
   "version": "3.6.4"
  }
 },
 "nbformat": 4,
 "nbformat_minor": 2
}
