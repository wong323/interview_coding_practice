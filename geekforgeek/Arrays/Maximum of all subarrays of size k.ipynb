{
 "cells": [
  {
   "cell_type": "markdown",
   "metadata": {},
   "source": [
    "Given an array A and an integer K. Find the maximum for each and every contiguous subarray of size K.\n"
   ]
  },
  {
   "cell_type": "code",
   "execution_count": 5,
   "metadata": {},
   "outputs": [],
   "source": [
    "from math import inf"
   ]
  },
  {
   "cell_type": "code",
   "execution_count": 22,
   "metadata": {},
   "outputs": [],
   "source": [
    "class solution(object):\n",
    "    \n",
    "    def find_max(self, ar, k):\n",
    "        ans_list = []\n",
    "        \n",
    "        last_max = -inf\n",
    "        \n",
    "        if k > len(ar):\n",
    "            return \"wont work\"\n",
    "        \n",
    "        for j in range(0, k):\n",
    "            if ar[j] > last_max:\n",
    "                last_max = ar[j]\n",
    "        ans_list.append(last_max)\n",
    "        \n",
    "        for i in range(k, len(ar)):\n",
    "            if ar[i] >= last_max:\n",
    "                last_max = ar[i]\n",
    "                ans_list.append(last_max)\n",
    "                \n",
    "            else:\n",
    "                if ar[i-k] < last_max:\n",
    "                    ans_list.append(last_max)\n",
    "                    \n",
    "                else:\n",
    "                    temp_max = -inf\n",
    "                    for s in range(i-k+1, i):\n",
    "                        if ar[s] > temp_max:\n",
    "                            temp_max = ar[s]\n",
    "                        \n",
    "                    last_max = temp_max\n",
    "                    ans_list.append(last_max)\n",
    "                    \n",
    "        return ans_list"
   ]
  },
  {
   "cell_type": "code",
   "execution_count": 23,
   "metadata": {},
   "outputs": [
    {
     "data": {
      "text/plain": [
       "[3, 3, 4, 5, 5, 5, 6]"
      ]
     },
     "execution_count": 23,
     "metadata": {},
     "output_type": "execute_result"
    }
   ],
   "source": [
    "s = solution()\n",
    "ar = [1, 2, 3, 1, 4, 5, 2, 3, 6]\n",
    "k = 3\n",
    "ans = [3, 3, 4, 5, 5, 5, 6]\n",
    "s.find_max(ar, k)"
   ]
  },
  {
   "cell_type": "code",
   "execution_count": null,
   "metadata": {},
   "outputs": [],
   "source": []
  },
  {
   "cell_type": "code",
   "execution_count": null,
   "metadata": {},
   "outputs": [],
   "source": []
  },
  {
   "cell_type": "code",
   "execution_count": null,
   "metadata": {},
   "outputs": [],
   "source": []
  },
  {
   "cell_type": "code",
   "execution_count": null,
   "metadata": {},
   "outputs": [],
   "source": []
  },
  {
   "cell_type": "code",
   "execution_count": null,
   "metadata": {},
   "outputs": [],
   "source": []
  },
  {
   "cell_type": "code",
   "execution_count": null,
   "metadata": {},
   "outputs": [],
   "source": []
  }
 ],
 "metadata": {
  "kernelspec": {
   "display_name": "Python 3",
   "language": "python",
   "name": "python3"
  },
  "language_info": {
   "codemirror_mode": {
    "name": "ipython",
    "version": 3
   },
   "file_extension": ".py",
   "mimetype": "text/x-python",
   "name": "python",
   "nbconvert_exporter": "python",
   "pygments_lexer": "ipython3",
   "version": "3.6.4"
  }
 },
 "nbformat": 4,
 "nbformat_minor": 2
}
