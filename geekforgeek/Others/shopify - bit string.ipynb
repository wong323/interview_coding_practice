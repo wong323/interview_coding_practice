{
 "cells": [
  {
   "cell_type": "markdown",
   "metadata": {},
   "source": [
    "Given a bit string, return all possible combos of strings\n",
    "? means either (0,1)\n",
    "\n",
    "so '1?' -> ['10', '11']\n",
    "\n",
    "so '??' -> ['00', '01', '10', '11']"
   ]
  },
  {
   "cell_type": "code",
   "execution_count": 2,
   "metadata": {},
   "outputs": [],
   "source": [
    "import unittest"
   ]
  },
  {
   "cell_type": "code",
   "execution_count": 195,
   "metadata": {},
   "outputs": [],
   "source": [
    "class bad_solution(object):\n",
    "    \n",
    "    def __init__(self):\n",
    "        self.d = {}\n",
    "    \n",
    "    def add_to_dic(self, s):\n",
    "        \n",
    "        for i in range(0, len(s)):\n",
    "            if s[i] != '?':\n",
    "                self.d[i] = s[i]\n",
    "            else:\n",
    "                self.d[i] = ('0','1')\n",
    "                \n",
    "        #return self.d\n",
    "        \n",
    "    def ans(self, s):\n",
    "        #self.d = self.add_to_dic(s)\n",
    "        \n",
    "        print(self.d.keys())\n",
    "        print(self.d.values())\n",
    "        \n",
    "        \n",
    "        return self.d\n",
    "        "
   ]
  },
  {
   "cell_type": "code",
   "execution_count": 3,
   "metadata": {},
   "outputs": [],
   "source": [
    "class solution(object):\n",
    "    def __init__(self):\n",
    "        self.ans_list = [[]]\n",
    "    \n",
    "    def pattern(self, s):\n",
    "        \n",
    "        if len(s)==0:\n",
    "            return self.ans_list\n",
    "        \n",
    "        if s[0] == '0' or s[0] == '1':\n",
    "            for i in range(0, len(self.ans_list)):\n",
    "                self.ans_list[i].append(s[0])\n",
    "\n",
    "        if s[0] == '?':\n",
    "            le = len(self.ans_list)           \n",
    "            \n",
    "            # used to dup current list\n",
    "            for i in range(0, le):\n",
    "                temp = list(self.ans_list[i])\n",
    "                self.ans_list.append(temp)\n",
    "            \n",
    "            # using the dup list, first half append 0, other append 1\n",
    "            for i in range(0, len(self.ans_list)):\n",
    "                \n",
    "                if i < len(self.ans_list)/2:\n",
    "                    self.ans_list[i].append('0')\n",
    "                else:\n",
    "                    self.ans_list[i].append('1')\n",
    "                    \n",
    "        return self.pattern(s[1:])\n",
    "        "
   ]
  },
  {
   "cell_type": "code",
   "execution_count": 4,
   "metadata": {
    "scrolled": true
   },
   "outputs": [
    {
     "name": "stderr",
     "output_type": "stream",
     "text": [
      "..\n",
      "----------------------------------------------------------------------\n",
      "Ran 2 tests in 0.008s\n",
      "\n",
      "OK\n"
     ]
    },
    {
     "ename": "SystemExit",
     "evalue": "False",
     "output_type": "error",
     "traceback": [
      "An exception has occurred, use %tb to see the full traceback.\n",
      "\u001b[1;31mSystemExit\u001b[0m\u001b[1;31m:\u001b[0m False\n"
     ]
    },
    {
     "name": "stderr",
     "output_type": "stream",
     "text": [
      "c:\\users\\sunny.wong2\\appdata\\local\\continuum\\anaconda3\\lib\\site-packages\\IPython\\core\\interactiveshell.py:2971: UserWarning: To exit: use 'exit', 'quit', or Ctrl-D.\n",
      "  warn(\"To exit: use 'exit', 'quit', or Ctrl-D.\", stacklevel=1)\n"
     ]
    }
   ],
   "source": [
    "class test_solution(unittest.TestCase):\n",
    "    def setUp(self):\n",
    "        self.s = solution()\n",
    "        \n",
    "    def test_pattern_simple(self):\n",
    "        st = '10'\n",
    "        ans = [['1', '0']]\n",
    "        self.assertEqual(self.s.pattern(st), ans, msg='this is wrong')\n",
    "        \n",
    "    def test_pattern_hard(self):\n",
    "        st = '1?0'\n",
    "        ans = [['1','0','0'], ['1','1','0']]\n",
    "        self.assertEqual(self.s.pattern(st), ans, msg='this is wrong')\n",
    "        \n",
    "        \n",
    "unittest.main(argv=[''])"
   ]
  },
  {
   "cell_type": "code",
   "execution_count": null,
   "metadata": {},
   "outputs": [],
   "source": []
  },
  {
   "cell_type": "code",
   "execution_count": null,
   "metadata": {},
   "outputs": [],
   "source": []
  },
  {
   "cell_type": "code",
   "execution_count": null,
   "metadata": {},
   "outputs": [],
   "source": []
  },
  {
   "cell_type": "code",
   "execution_count": null,
   "metadata": {},
   "outputs": [],
   "source": []
  },
  {
   "cell_type": "code",
   "execution_count": null,
   "metadata": {},
   "outputs": [],
   "source": []
  },
  {
   "cell_type": "code",
   "execution_count": null,
   "metadata": {},
   "outputs": [],
   "source": []
  }
 ],
 "metadata": {
  "kernelspec": {
   "display_name": "Python 3",
   "language": "python",
   "name": "python3"
  },
  "language_info": {
   "codemirror_mode": {
    "name": "ipython",
    "version": 3
   },
   "file_extension": ".py",
   "mimetype": "text/x-python",
   "name": "python",
   "nbconvert_exporter": "python",
   "pygments_lexer": "ipython3",
   "version": "3.6.4"
  }
 },
 "nbformat": 4,
 "nbformat_minor": 2
}
