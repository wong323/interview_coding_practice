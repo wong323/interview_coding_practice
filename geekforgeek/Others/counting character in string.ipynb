{
 "cells": [
  {
   "cell_type": "code",
   "execution_count": 5,
   "metadata": {},
   "outputs": [
    {
     "name": "stdout",
     "output_type": "stream",
     "text": [
      "e: 2\n",
      "q: 2\n",
      "r: 2\n",
      "t: 1\n",
      "w: 2\n",
      "y: 5\n"
     ]
    }
   ],
   "source": [
    "def count_dict(mystring):\n",
    "    d = {}\n",
    "    dis = set(mystring)\n",
    "    # count occurances of character\n",
    "    for w in dis: \n",
    "        d[w] = mystring.count(w)\n",
    "    # print the result\n",
    "    for k in sorted(d.keys()):\n",
    "        print (str(k) + ': ' + str(d[k]))\n",
    "        \n",
    "    return d\n",
    "\n",
    "mystring='qwertyqweryyyy'\n",
    "d = count_dict(mystring)"
   ]
  },
  {
   "cell_type": "code",
   "execution_count": 3,
   "metadata": {},
   "outputs": [
    {
     "data": {
      "text/plain": [
       "dict_values([5, 2, 1, 2, 2, 2])"
      ]
     },
     "execution_count": 3,
     "metadata": {},
     "output_type": "execute_result"
    }
   ],
   "source": [
    "d.keys()\n",
    "d.values()"
   ]
  }
 ],
 "metadata": {
  "kernelspec": {
   "display_name": "Python 3",
   "language": "python",
   "name": "python3"
  },
  "language_info": {
   "codemirror_mode": {
    "name": "ipython",
    "version": 3
   },
   "file_extension": ".py",
   "mimetype": "text/x-python",
   "name": "python",
   "nbconvert_exporter": "python",
   "pygments_lexer": "ipython3",
   "version": "3.6.4"
  }
 },
 "nbformat": 4,
 "nbformat_minor": 2
}
