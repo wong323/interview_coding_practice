{
 "cells": [
  {
   "cell_type": "markdown",
   "metadata": {},
   "source": [
    "Given a value N, total sum you have. You have to make change for Rs. N, and there is infinite supply of each of the denominations in Indian currency, i.e., you have infinite supply of { 1, 2, 5, 10, 20, 50, 100, 200, 500, 2000} valued coins/notes, Find the minimum number of coins and/or notes needed to make the change for Rs N.\n",
    "\n",
    "Input:\n",
    "The first line of input contains an integer T denoting the number of test cases. Each test case consist of an Integer value N denoting the amount to get change for.\n",
    "\n",
    "Output:\n",
    "Print all the denominations needed to make the change in a separate line."
   ]
  },
  {
   "cell_type": "code",
   "execution_count": 1,
   "metadata": {},
   "outputs": [],
   "source": [
    "import unittest"
   ]
  },
  {
   "cell_type": "code",
   "execution_count": 16,
   "metadata": {},
   "outputs": [
    {
     "name": "stderr",
     "output_type": "stream",
     "text": [
      ".\n",
      "----------------------------------------------------------------------\n",
      "Ran 1 test in 0.002s\n",
      "\n",
      "OK\n"
     ]
    },
    {
     "data": {
      "text/plain": [
       "<unittest.main.TestProgram at 0x28898aa80b8>"
      ]
     },
     "execution_count": 16,
     "metadata": {},
     "output_type": "execute_result"
    }
   ],
   "source": [
    "class test_solution(unittest.TestCase):\n",
    "    def setUp(self):\n",
    "        self.s = solution ()\n",
    "        \n",
    "    def test_min_number(self):\n",
    "        a = 5000\n",
    "        ans = [2000, 2000, 500, 500]\n",
    "        self.assertEqual(self.s.min_number(a), ans, msg = 'this is wrong')\n",
    "        \n",
    "unittest.main(argv=[''], exit=False)"
   ]
  },
  {
   "cell_type": "code",
   "execution_count": 15,
   "metadata": {},
   "outputs": [],
   "source": [
    "class solution(object):\n",
    "    \n",
    "    def min_number(self, x):\n",
    "        d = {1, 2, 5, 10, 20, 50, 100, 200, 500, 2000}\n",
    "        \n",
    "        ans_list = []\n",
    "        \n",
    "        if x < 1:\n",
    "            return 'wont work'\n",
    "        \n",
    "        remaining_sum = x\n",
    "        \n",
    "        while remaining_sum >= 2000:\n",
    "            remaining_sum -= 2000\n",
    "            ans_list.append(2000)\n",
    "        \n",
    "        while remaining_sum >=500:\n",
    "            remaining_sum -= 500\n",
    "            ans_list.append(500)\n",
    "            \n",
    "        while remaining_sum >=200:\n",
    "            remaining_sum -= 200\n",
    "            ans_list.append(200)  \n",
    "            \n",
    "        while remaining_sum >=100:\n",
    "            remaining_sum -= 100\n",
    "            ans_list.append(100) \n",
    "            \n",
    "        while remaining_sum >=50:\n",
    "            remaining_sum -= 50\n",
    "            ans_list.append(50) \n",
    "            \n",
    "        while remaining_sum > 20:\n",
    "            remaining_sum -= 20\n",
    "            ans_list.append(20) \n",
    "            \n",
    "        while remaining_sum >=10:\n",
    "            remaining_sum -= 10\n",
    "            ans_list.append(10) \n",
    "        \n",
    "        while remaining_sum >=5:\n",
    "            remaining_sum -= 5\n",
    "            ans_list.append(5) \n",
    "            \n",
    "        while remaining_sum >=2:\n",
    "            remaining_sum -= 2\n",
    "            ans_list.append(2) \n",
    "            \n",
    "        while remaining_sum >=1:\n",
    "            remaining_sum -= 1\n",
    "            ans_list.append(1) \n",
    "            \n",
    "        return ans_list"
   ]
  },
  {
   "cell_type": "code",
   "execution_count": null,
   "metadata": {},
   "outputs": [],
   "source": []
  },
  {
   "cell_type": "code",
   "execution_count": null,
   "metadata": {},
   "outputs": [],
   "source": []
  }
 ],
 "metadata": {
  "kernelspec": {
   "display_name": "Python 3",
   "language": "python",
   "name": "python3"
  },
  "language_info": {
   "codemirror_mode": {
    "name": "ipython",
    "version": 3
   },
   "file_extension": ".py",
   "mimetype": "text/x-python",
   "name": "python",
   "nbconvert_exporter": "python",
   "pygments_lexer": "ipython3",
   "version": "3.6.4"
  }
 },
 "nbformat": 4,
 "nbformat_minor": 2
}
