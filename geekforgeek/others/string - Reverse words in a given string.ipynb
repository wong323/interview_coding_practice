{
 "cells": [
  {
   "cell_type": "markdown",
   "metadata": {},
   "source": [
    "Given a String of length S, reverse the whole string without reversing the individual words in it. Words are separated by dots.\n",
    "\n",
    "\n",
    "Input:\n",
    "The first line contains T denoting the number of testcases. T testcases follow. Each case contains a string S containing characters.\n",
    "\n",
    "\n",
    "Output:\n",
    "For each test case, in a new line, output a single line containing the reversed String."
   ]
  },
  {
   "cell_type": "code",
   "execution_count": 1,
   "metadata": {},
   "outputs": [],
   "source": [
    "import unittest"
   ]
  },
  {
   "cell_type": "code",
   "execution_count": 25,
   "metadata": {},
   "outputs": [
    {
     "name": "stderr",
     "output_type": "stream",
     "text": [
      ".\n",
      "----------------------------------------------------------------------\n",
      "Ran 1 test in 0.002s\n",
      "\n",
      "OK\n"
     ]
    },
    {
     "data": {
      "text/plain": [
       "<unittest.main.TestProgram at 0x18a43ab60b8>"
      ]
     },
     "execution_count": 25,
     "metadata": {},
     "output_type": "execute_result"
    }
   ],
   "source": [
    "class test_solution(unittest.TestCase):\n",
    "    def setUp(self):\n",
    "        self.s= solution()\n",
    "        \n",
    "    def test_inverse_string(self):\n",
    "        testc = 'i.like.this.program.very.much'\n",
    "        ans = 'much.very.program.this.like.i'\n",
    "        self.assertEqual(self.s.inverse_string(testc), ans, msg='this is wrong')\n",
    "        \n",
    "unittest.main(argv=[''], exit=False)"
   ]
  },
  {
   "cell_type": "code",
   "execution_count": 24,
   "metadata": {},
   "outputs": [],
   "source": [
    "class solution(object):\n",
    "    \n",
    "    def inverse_string(self, s):\n",
    "        \n",
    "        new_list = s.split('.')\n",
    "        \n",
    "        reverse_list = new_list\n",
    "        reverse_list.reverse()\n",
    "        \n",
    "        new_string= '.'.join(reverse_list)\n",
    "        return new_string    "
   ]
  },
  {
   "cell_type": "code",
   "execution_count": null,
   "metadata": {},
   "outputs": [],
   "source": []
  }
 ],
 "metadata": {
  "kernelspec": {
   "display_name": "Python 3",
   "language": "python",
   "name": "python3"
  },
  "language_info": {
   "codemirror_mode": {
    "name": "ipython",
    "version": 3
   },
   "file_extension": ".py",
   "mimetype": "text/x-python",
   "name": "python",
   "nbconvert_exporter": "python",
   "pygments_lexer": "ipython3",
   "version": "3.6.4"
  }
 },
 "nbformat": 4,
 "nbformat_minor": 2
}
