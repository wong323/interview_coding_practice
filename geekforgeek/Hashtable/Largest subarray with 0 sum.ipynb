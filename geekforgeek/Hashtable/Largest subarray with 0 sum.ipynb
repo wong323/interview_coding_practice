{
 "cells": [
  {
   "cell_type": "markdown",
   "metadata": {},
   "source": [
    "\n",
    "           \n",
    "Given an array having both positive an negative integers . Your task is to complete the function maxLen which returns the length of maximum subarray with 0 sum . The function takes two arguments an array A and n where n is the size of the array A . \n",
    "\n",
    "\n",
    "Input:\n",
    "The first line of input contains an element T denoting the No of test cases. Then T test cases follow. Each test case consist of 2 lines. The first line of each test case contains a number denoting the size of the array A. Then in the next line are space separated values of the array A .\n",
    "\n",
    "\n",
    "Output:\n",
    "For each test case output will be the length of the largest subarray which has sum 0 ."
   ]
  },
  {
   "cell_type": "code",
   "execution_count": 3,
   "metadata": {},
   "outputs": [],
   "source": [
    "import unittest"
   ]
  },
  {
   "cell_type": "code",
   "execution_count": 4,
   "metadata": {},
   "outputs": [
    {
     "name": "stderr",
     "output_type": "stream",
     "text": [
      "E\n",
      "======================================================================\n",
      "ERROR: test_find_max_length (__main__.test_solution)\n",
      "----------------------------------------------------------------------\n",
      "Traceback (most recent call last):\n",
      "  File \"<ipython-input-4-eb4923fdb736>\", line 3, in setUp\n",
      "    self.s = solution ()\n",
      "NameError: name 'solution' is not defined\n",
      "\n",
      "----------------------------------------------------------------------\n",
      "Ran 1 test in 0.002s\n",
      "\n",
      "FAILED (errors=1)\n"
     ]
    },
    {
     "data": {
      "text/plain": [
       "<unittest.main.TestProgram at 0x2841d8eb2e8>"
      ]
     },
     "execution_count": 4,
     "metadata": {},
     "output_type": "execute_result"
    }
   ],
   "source": [
    "class test_solution(unittest.TestCase):\n",
    "    def setUp(self):\n",
    "        self.s = solution ()\n",
    "        \n",
    "    def test_find_max_length(self):\n",
    "        \n",
    "        a = [1,5,-6,-1,2]\n",
    "        ans = 3\n",
    "        self.assertEqual(self.s.find_max_length(a), ans, msg = 'this is wrong')\n",
    "        \n",
    "unittest.main(argv=[''], exit=False)"
   ]
  },
  {
   "cell_type": "code",
   "execution_count": 7,
   "metadata": {},
   "outputs": [],
   "source": [
    "class solution(object):\n",
    "    \n",
    "        \n",
    "    def find_max_length(self, a):\n",
    "        max_len_so_far = 0\n",
    "        size_a = len(a)\n",
    "        temp_list = []\n",
    "        \n",
    "        for i in range(0, size_a):\n",
    "            \n",
    "            temp_list.append(a[i])\n",
    "            \n",
    "            if self.check_list(temp_list):\n",
    "                \n",
    "                temp_ans = len(temp_list)\n",
    "                \n",
    "                if temp_ans > max_len_so_far:\n",
    "                    max_len_so_far = temp_ans\n",
    "                else:\n",
    "                    pass\n",
    "                \n",
    "            else:\n",
    "                reverse_temp_list = temp_list\n",
    "                reverse_temp_list.reverse()\n",
    "                \n",
    "                ttlist = []\n",
    "                \n",
    "                for num in range(0, len(reverse_temp_list)):\n",
    "                    ttlist.append(reverse_temp_list[num])\n",
    "                    \n",
    "                    if self.check_list(ttlist):\n",
    "                        temp_ans = len(ttlist)\n",
    "                        if temp_ans > max_len_so_far:\n",
    "                            max_len_so_far = temp_ans\n",
    "                        else:\n",
    "                            pass\n",
    "                        \n",
    "        return max_len_so_far\n",
    "        \n",
    "    def check_list(self, l):\n",
    "        total = 0\n",
    "        for num in l:\n",
    "            total += num\n",
    "        \n",
    "        if total == 0:\n",
    "            return True\n",
    "        else:\n",
    "            return False\n",
    "        \n",
    "        \n",
    "        \n",
    "        \n",
    "        "
   ]
  },
  {
   "cell_type": "markdown",
   "metadata": {},
   "source": [
    "We can Use Hashing to solve this problem in O(n) time. \n",
    "\n",
    "The idea is to iterate through the array and for every element arr[i], calculate sum of elements form 0 to i (this can simply be done as sum += arr[i]). \n",
    "\n",
    "If the current sum has been seen before, then there is a zero sum array. \n",
    "\n",
    "Hashing is used to store the sum values, so that we can quickly store sum and find out whether the current sum is seen before or not.\n",
    "\n",
    "Following are implementations of the above approach."
   ]
  },
  {
   "cell_type": "code",
   "execution_count": 1,
   "metadata": {},
   "outputs": [
    {
     "name": "stdout",
     "output_type": "stream",
     "text": [
      "Length of the longest 0 sum subarray is 5\n"
     ]
    }
   ],
   "source": [
    "# A python program to find maximum length subarray  \n",
    "# with 0 sum in o(n) time \n",
    "  \n",
    "# Returns the maximum length \n",
    "def maxLen(arr): \n",
    "      \n",
    "    # NOTE: Dictonary in python in implemented as Hash Maps \n",
    "    # Create an empty hash map (dictionary) \n",
    "    hash_map = {} \n",
    "  \n",
    "    # Initialize result \n",
    "    max_len = 0\n",
    "  \n",
    "    # Initialize sum of elements \n",
    "    curr_sum = 0\n",
    "  \n",
    "    # Traverse through the given array \n",
    "    for i in range(len(arr)): \n",
    "          \n",
    "        # Add the current element to the sum \n",
    "        curr_sum += arr[i] \n",
    "  \n",
    "        #if arr[i] is 0 and max_len is 0: \n",
    "        #    max_len = 1\n",
    "  \n",
    "        if curr_sum is 0: \n",
    "            max_len = i+1\n",
    "  \n",
    "        # NOTE: 'in' operation in dictionary to search  \n",
    "        # key takes O(1). Look if current sum is seen  \n",
    "        # before \n",
    "        if curr_sum in hash_map: \n",
    "            max_len = max(max_len, i - hash_map[curr_sum] ) \n",
    "        else: \n",
    "  \n",
    "            # else put this sum in dictionary \n",
    "            hash_map[curr_sum] = i \n",
    "  \n",
    "    return max_len \n",
    "  \n",
    "  \n",
    "# test array \n",
    "arr = [15, -2, 2, -8, 1, 7, 10, 13] \n",
    "   \n",
    "print (\"Length of the longest 0 sum subarray is %d\" %  maxLen(arr) )"
   ]
  },
  {
   "cell_type": "code",
   "execution_count": null,
   "metadata": {},
   "outputs": [],
   "source": []
  },
  {
   "cell_type": "code",
   "execution_count": null,
   "metadata": {},
   "outputs": [],
   "source": []
  },
  {
   "cell_type": "code",
   "execution_count": null,
   "metadata": {},
   "outputs": [],
   "source": []
  },
  {
   "cell_type": "code",
   "execution_count": null,
   "metadata": {},
   "outputs": [],
   "source": []
  },
  {
   "cell_type": "code",
   "execution_count": null,
   "metadata": {},
   "outputs": [],
   "source": []
  },
  {
   "cell_type": "code",
   "execution_count": null,
   "metadata": {},
   "outputs": [],
   "source": []
  }
 ],
 "metadata": {
  "kernelspec": {
   "display_name": "Python 3",
   "language": "python",
   "name": "python3"
  },
  "language_info": {
   "codemirror_mode": {
    "name": "ipython",
    "version": 3
   },
   "file_extension": ".py",
   "mimetype": "text/x-python",
   "name": "python",
   "nbconvert_exporter": "python",
   "pygments_lexer": "ipython3",
   "version": "3.6.4"
  }
 },
 "nbformat": 4,
 "nbformat_minor": 2
}
