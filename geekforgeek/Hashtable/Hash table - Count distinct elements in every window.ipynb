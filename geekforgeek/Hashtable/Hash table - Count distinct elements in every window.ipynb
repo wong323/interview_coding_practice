{
 "cells": [
  {
   "cell_type": "markdown",
   "metadata": {},
   "source": [
    "Given an array A[] of size N and an integer K. Your task is to complete the function countDistinct() which prints the count of distinct numbers in all windows of size k in the array A[].\n",
    "\n",
    "Input:\n",
    "The first line of input contains an integer T denoting the number of test cases. Then T test cases follow. Each test case contains two integers N and K. Then in the next line are N space separated values of the array A[].\n",
    "\n",
    "Output:\n",
    "For each test case in a new line print the space separated values denoting counts of distinct numbers in all windows of size k in the array A[]."
   ]
  },
  {
   "cell_type": "code",
   "execution_count": 1,
   "metadata": {},
   "outputs": [],
   "source": [
    "import unittest"
   ]
  },
  {
   "cell_type": "code",
   "execution_count": 58,
   "metadata": {
    "scrolled": true
   },
   "outputs": [
    {
     "name": "stderr",
     "output_type": "stream",
     "text": [
      ".\n",
      "----------------------------------------------------------------------\n",
      "Ran 1 test in 0.002s\n",
      "\n",
      "OK\n"
     ]
    },
    {
     "data": {
      "text/plain": [
       "<unittest.main.TestProgram at 0x14ecd1fb5f8>"
      ]
     },
     "execution_count": 58,
     "metadata": {},
     "output_type": "execute_result"
    }
   ],
   "source": [
    "class test_solution(unittest.TestCase):\n",
    "    def setUp(self):\n",
    "        self.s = solution ()\n",
    "        \n",
    "    def test_countDistinct2(self):\n",
    "        \n",
    "        a = [1,2,1,3,4,2,3]\n",
    "        ans = [3,4,4,3]\n",
    "        k = 4\n",
    "        self.assertEqual(self.s.countDistinct2(a, k), ans, msg = 'this is wrong')\n",
    "        \n",
    "unittest.main(argv=[''], exit=False)"
   ]
  },
  {
   "cell_type": "code",
   "execution_count": 57,
   "metadata": {},
   "outputs": [],
   "source": [
    "class solution(object):\n",
    "    \n",
    "    def countDistinct(self, l, k):\n",
    "        ans_list=[]\n",
    "        length = len(l)\n",
    "        #wont work if k>length\n",
    "        if k > length:\n",
    "            return \"fail\"\n",
    "        \n",
    "        for i in range(k, length+1):\n",
    "            temp_list = l[i-k:i]\n",
    "            print(temp_list)\n",
    "            cd = len(set(temp_list))\n",
    "            \n",
    "            ans_list.append(cd)      \n",
    "        return ans_list\n",
    "    \n",
    "    def countDistinct2(self, l, k):\n",
    "        ans_list=[]\n",
    "        length = len(l)\n",
    "        #wont work if k>length\n",
    "        if k > length:\n",
    "            return \"fail\"\n",
    "        \n",
    "        # using dictionary to track last seen index\n",
    "        # if that index is < k-i, then i know the new index isnt in the temp_list, then use the latest cd\n",
    "        # if that index is already in the temp_list, then cd - 1\n",
    "        \n",
    "        temp_list = l[0:k]\n",
    "        cd_now = len(set(temp_list))\n",
    "        ans_list.append(cd_now)\n",
    "        d = {}\n",
    "        \n",
    "        for i in range(0, k):\n",
    "            d[l[i]] = i\n",
    "        \n",
    "        for i in range(k, length):\n",
    "            \n",
    "            if l[i] not in d:\n",
    "                d[l[i]] = i\n",
    "                if cd_now < k:\n",
    "                    cd_now += 1\n",
    "                else:\n",
    "                    pass\n",
    "            else:\n",
    "                if i >= d[l[i]] + k:\n",
    "                    d[l[i]] = i\n",
    "                    if cd_now < k:\n",
    "                        cd_now += 1\n",
    "                    else:\n",
    "                        pass\n",
    "                else:\n",
    "                    cd_now -= 1\n",
    "                    \n",
    "\n",
    "            \n",
    "            ans_list.append(cd_now)      \n",
    "        return ans_list\n",
    "    \n",
    "    "
   ]
  },
  {
   "cell_type": "code",
   "execution_count": null,
   "metadata": {},
   "outputs": [],
   "source": []
  },
  {
   "cell_type": "code",
   "execution_count": null,
   "metadata": {},
   "outputs": [],
   "source": []
  },
  {
   "cell_type": "code",
   "execution_count": null,
   "metadata": {},
   "outputs": [],
   "source": []
  },
  {
   "cell_type": "code",
   "execution_count": null,
   "metadata": {},
   "outputs": [],
   "source": []
  },
  {
   "cell_type": "code",
   "execution_count": null,
   "metadata": {},
   "outputs": [],
   "source": []
  },
  {
   "cell_type": "code",
   "execution_count": null,
   "metadata": {},
   "outputs": [],
   "source": []
  }
 ],
 "metadata": {
  "kernelspec": {
   "display_name": "Python 3",
   "language": "python",
   "name": "python3"
  },
  "language_info": {
   "codemirror_mode": {
    "name": "ipython",
    "version": 3
   },
   "file_extension": ".py",
   "mimetype": "text/x-python",
   "name": "python",
   "nbconvert_exporter": "python",
   "pygments_lexer": "ipython3",
   "version": "3.6.4"
  }
 },
 "nbformat": 4,
 "nbformat_minor": 2
}
